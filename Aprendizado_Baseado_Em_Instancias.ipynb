{
  "nbformat": 4,
  "nbformat_minor": 0,
  "metadata": {
    "colab": {
      "name": "Aprendizado-Baseado-Em-Instancias.ipynb",
      "provenance": [],
      "authorship_tag": "ABX9TyNtOf2ZwZwX/8yWjnWRqdIk",
      "include_colab_link": true
    },
    "kernelspec": {
      "name": "python3",
      "display_name": "Python 3"
    },
    "language_info": {
      "name": "python"
    }
  },
  "cells": [
    {
      "cell_type": "markdown",
      "metadata": {
        "id": "view-in-github",
        "colab_type": "text"
      },
      "source": [
        "<a href=\"https://colab.research.google.com/github/joaoSouza2121/machine-learning/blob/main/Aprendizado_Baseado_Em_Instancias.ipynb\" target=\"_parent\"><img src=\"https://colab.research.google.com/assets/colab-badge.svg\" alt=\"Open In Colab\"/></a>"
      ]
    },
    {
      "cell_type": "markdown",
      "metadata": {
        "id": "ox7l93yasQ-8"
      },
      "source": [
        "#<font color=\"blue\">Machine Learning</font>\n",
        "\n",
        "Aprendizado Baseado em Instâncias"
      ]
    },
    {
      "cell_type": "code",
      "metadata": {
        "id": "zPry5PdGsJQT"
      },
      "source": [
        "# Imports\n",
        "from sklearn.model_selection import train_test_split\n",
        "from sklearn.metrics import confusion_matrix, accuracy_score\n",
        "from sklearn.neighbors import KNeighborsClassifier\n",
        "from sklearn import datasets\n",
        "import pandas as pd\n",
        "import numpy as np\n",
        "from scipy import stats"
      ],
      "execution_count": 1,
      "outputs": []
    },
    {
      "cell_type": "code",
      "metadata": {
        "colab": {
          "base_uri": "https://localhost:8080/",
          "height": 204
        },
        "id": "hkueWBFStQqP",
        "outputId": "7e7bd9ec-2c93-4768-c24c-046326ca666e"
      },
      "source": [
        "# Carregamos do disco apenas para visualização\n",
        "iristemp = pd.read_csv(\"dados/iris.csv\")\n",
        "iristemp.head()"
      ],
      "execution_count": 3,
      "outputs": [
        {
          "output_type": "execute_result",
          "data": {
            "text/html": [
              "<div>\n",
              "<style scoped>\n",
              "    .dataframe tbody tr th:only-of-type {\n",
              "        vertical-align: middle;\n",
              "    }\n",
              "\n",
              "    .dataframe tbody tr th {\n",
              "        vertical-align: top;\n",
              "    }\n",
              "\n",
              "    .dataframe thead th {\n",
              "        text-align: right;\n",
              "    }\n",
              "</style>\n",
              "<table border=\"1\" class=\"dataframe\">\n",
              "  <thead>\n",
              "    <tr style=\"text-align: right;\">\n",
              "      <th></th>\n",
              "      <th>sepal length</th>\n",
              "      <th>sepal width</th>\n",
              "      <th>petal length</th>\n",
              "      <th>petal width</th>\n",
              "      <th>class</th>\n",
              "    </tr>\n",
              "  </thead>\n",
              "  <tbody>\n",
              "    <tr>\n",
              "      <th>0</th>\n",
              "      <td>5.1</td>\n",
              "      <td>3.5</td>\n",
              "      <td>1.4</td>\n",
              "      <td>0.2</td>\n",
              "      <td>Iris-setosa</td>\n",
              "    </tr>\n",
              "    <tr>\n",
              "      <th>1</th>\n",
              "      <td>4.9</td>\n",
              "      <td>3.0</td>\n",
              "      <td>1.4</td>\n",
              "      <td>0.2</td>\n",
              "      <td>Iris-setosa</td>\n",
              "    </tr>\n",
              "    <tr>\n",
              "      <th>2</th>\n",
              "      <td>4.7</td>\n",
              "      <td>3.2</td>\n",
              "      <td>1.3</td>\n",
              "      <td>0.2</td>\n",
              "      <td>Iris-setosa</td>\n",
              "    </tr>\n",
              "    <tr>\n",
              "      <th>3</th>\n",
              "      <td>4.6</td>\n",
              "      <td>3.1</td>\n",
              "      <td>1.5</td>\n",
              "      <td>0.2</td>\n",
              "      <td>Iris-setosa</td>\n",
              "    </tr>\n",
              "    <tr>\n",
              "      <th>4</th>\n",
              "      <td>5.0</td>\n",
              "      <td>3.6</td>\n",
              "      <td>1.4</td>\n",
              "      <td>0.2</td>\n",
              "      <td>Iris-setosa</td>\n",
              "    </tr>\n",
              "  </tbody>\n",
              "</table>\n",
              "</div>"
            ],
            "text/plain": [
              "   sepal length  sepal width  petal length  petal width        class\n",
              "0           5.1          3.5           1.4          0.2  Iris-setosa\n",
              "1           4.9          3.0           1.4          0.2  Iris-setosa\n",
              "2           4.7          3.2           1.3          0.2  Iris-setosa\n",
              "3           4.6          3.1           1.5          0.2  Iris-setosa\n",
              "4           5.0          3.6           1.4          0.2  Iris-setosa"
            ]
          },
          "metadata": {
            "tags": []
          },
          "execution_count": 3
        }
      ]
    },
    {
      "cell_type": "code",
      "metadata": {
        "colab": {
          "base_uri": "https://localhost:8080/"
        },
        "id": "NIyigJ9Ft2ng",
        "outputId": "5cd70a77-7279-484c-a7af-54a8110968be"
      },
      "source": [
        "# Carregando o dataset a partir do sklearn\n",
        "iris = datasets.load_iris()\n",
        "stats.describe(iris.data)"
      ],
      "execution_count": 5,
      "outputs": [
        {
          "output_type": "execute_result",
          "data": {
            "text/plain": [
              "DescribeResult(nobs=150, minmax=(array([4.3, 2. , 1. , 0.1]), array([7.9, 4.4, 6.9, 2.5])), mean=array([5.84333333, 3.05733333, 3.758     , 1.19933333]), variance=array([0.68569351, 0.18997942, 3.11627785, 0.58100626]), skewness=array([ 0.31175306,  0.31576711, -0.27212767, -0.10193421]), kurtosis=array([-0.57356795,  0.18097632, -1.39553589, -1.33606741]))"
            ]
          },
          "metadata": {
            "tags": []
          },
          "execution_count": 5
        }
      ]
    },
    {
      "cell_type": "code",
      "metadata": {
        "id": "QQTYCB4ruCqO"
      },
      "source": [
        "# Criação dos previsores -> (variveis independentes - x) e class (variavel dependente - y)\n",
        "previsores = iris.data\n",
        "classe = iris.target"
      ],
      "execution_count": 6,
      "outputs": []
    },
    {
      "cell_type": "code",
      "metadata": {
        "colab": {
          "base_uri": "https://localhost:8080/"
        },
        "id": "MVgoYH2Mu4Kl",
        "outputId": "935d3341-1f18-48f4-de08-1531319e1065"
      },
      "source": [
        "# Divisão da base de dados entre treinamento e teste (70% para treinamento e 30% para teste)\n",
        "X_treino, X_teste, y_treino, y_teste = train_test_split(previsores, classe, test_size = 0.3, random_state = 0)\n",
        "len(X_treino)"
      ],
      "execution_count": 7,
      "outputs": [
        {
          "output_type": "execute_result",
          "data": {
            "text/plain": [
              "105"
            ]
          },
          "metadata": {
            "tags": []
          },
          "execution_count": 7
        }
      ]
    },
    {
      "cell_type": "code",
      "metadata": {
        "colab": {
          "base_uri": "https://localhost:8080/"
        },
        "id": "EivLE-DAviXy",
        "outputId": "9c0650b3-665e-4bf2-85fd-6793747436f8"
      },
      "source": [
        "# Criando primeira versao do modelo\n",
        "knn1 = KNeighborsClassifier(n_neighbors= 3)\n",
        "knn1.fit(X_treino, y_treino)"
      ],
      "execution_count": 8,
      "outputs": [
        {
          "output_type": "execute_result",
          "data": {
            "text/plain": [
              "KNeighborsClassifier(algorithm='auto', leaf_size=30, metric='minkowski',\n",
              "                     metric_params=None, n_jobs=None, n_neighbors=3, p=2,\n",
              "                     weights='uniform')"
            ]
          },
          "metadata": {
            "tags": []
          },
          "execution_count": 8
        }
      ]
    },
    {
      "cell_type": "code",
      "metadata": {
        "colab": {
          "base_uri": "https://localhost:8080/"
        },
        "id": "-QjAQikxv12S",
        "outputId": "69ecee4b-9ce0-444d-c223-2b79501e6ce3"
      },
      "source": [
        "# Obtendo as previsões do modelo\n",
        "previsao1 = knn1.predict(X_teste)\n",
        "previsao1"
      ],
      "execution_count": 9,
      "outputs": [
        {
          "output_type": "execute_result",
          "data": {
            "text/plain": [
              "array([2, 1, 0, 2, 0, 2, 0, 1, 1, 1, 2, 1, 1, 1, 1, 0, 1, 1, 0, 0, 2, 1,\n",
              "       0, 0, 2, 0, 0, 1, 1, 0, 2, 1, 0, 2, 2, 1, 0, 2, 1, 1, 2, 0, 2, 0,\n",
              "       0])"
            ]
          },
          "metadata": {
            "tags": []
          },
          "execution_count": 9
        }
      ]
    },
    {
      "cell_type": "code",
      "metadata": {
        "colab": {
          "base_uri": "https://localhost:8080/"
        },
        "id": "sihZEliywN92",
        "outputId": "b18fe09b-4869-4877-fdce-407493b2d890"
      },
      "source": [
        "# Matriz de Confusão\n",
        "confusao = confusion_matrix(y_teste, previsao1)\n",
        "confusao"
      ],
      "execution_count": 10,
      "outputs": [
        {
          "output_type": "execute_result",
          "data": {
            "text/plain": [
              "array([[16,  0,  0],\n",
              "       [ 0, 17,  1],\n",
              "       [ 0,  0, 11]])"
            ]
          },
          "metadata": {
            "tags": []
          },
          "execution_count": 10
        }
      ]
    },
    {
      "cell_type": "code",
      "metadata": {
        "colab": {
          "base_uri": "https://localhost:8080/"
        },
        "id": "qu_gtv_HwahQ",
        "outputId": "9fc1af09-c531-48e4-d915-a9c5e4dbc626"
      },
      "source": [
        "tx_acerto = accuracy_score(y_teste, previsao1)\n",
        "tx_acerto "
      ],
      "execution_count": 11,
      "outputs": [
        {
          "output_type": "execute_result",
          "data": {
            "text/plain": [
              "0.9777777777777777"
            ]
          },
          "metadata": {
            "tags": []
          },
          "execution_count": 11
        }
      ]
    },
    {
      "cell_type": "markdown",
      "metadata": {
        "id": "AWShXC933JRS"
      },
      "source": [
        "#<font color=\"green\">Ensamble Learning</font>"
      ]
    },
    {
      "cell_type": "code",
      "metadata": {
        "id": "zvHkJTwNxGyK"
      },
      "source": [
        "from sklearn.ensemble import RandomForestClassifier\n",
        "from sklearn.preprocessing import LabelEncoder"
      ],
      "execution_count": 17,
      "outputs": []
    },
    {
      "cell_type": "code",
      "metadata": {
        "colab": {
          "base_uri": "https://localhost:8080/"
        },
        "id": "QkPuhWs73muc",
        "outputId": "2901b1dd-6f45-43aa-8e06-9c007c91ac5d"
      },
      "source": [
        "# Dados\n",
        "credito = pd.read_csv(\"dados/Credit.csv\")\n",
        "credito.shape"
      ],
      "execution_count": 13,
      "outputs": [
        {
          "output_type": "execute_result",
          "data": {
            "text/plain": [
              "(1000, 21)"
            ]
          },
          "metadata": {
            "tags": []
          },
          "execution_count": 13
        }
      ]
    },
    {
      "cell_type": "code",
      "metadata": {
        "id": "dFZ3G5iR38KY"
      },
      "source": [
        "# Separando em previsores e classe\n",
        "previsores = credito.iloc[:, 0:20].values\n",
        "classe = credito.iloc[:, 20].values"
      ],
      "execution_count": 15,
      "outputs": []
    },
    {
      "cell_type": "code",
      "metadata": {
        "id": "F0DbVpNo4Psd"
      },
      "source": [
        "# Transformação dos atributos categóricos em atributos numéricos, passando o índice de cada coluna categórica\n",
        "# Precisamos criar um objeto para cada atributo categórico, pois na sequência vamos executar o processo de encoding novamente para o registro de teste\n",
        "# Obs => Se forem utilizados objetos diferentes, o número atribuído a cada valor poderá ser diferente, o que deixará o teste inconsistente\n",
        "labelencoder = LabelEncoder()\n",
        "previsores[:,0] = labelencoder.fit_transform(previsores[:,0])\n",
        "previsores[:,2] = labelencoder.fit_transform(previsores[:,2])\n",
        "previsores[:,3] = labelencoder.fit_transform(previsores[:,3])\n",
        "previsores[:,5] = labelencoder.fit_transform(previsores[:,5])\n",
        "previsores[:,6] = labelencoder.fit_transform(previsores[:,6])\n",
        "previsores[:,8] = labelencoder.fit_transform(previsores[:,8])\n",
        "previsores[:,9] = labelencoder.fit_transform(previsores[:,9])\n",
        "previsores[:,11] = labelencoder.fit_transform(previsores[:,11])\n",
        "previsores[:,13] = labelencoder.fit_transform(previsores[:,13])\n",
        "previsores[:,14] = labelencoder.fit_transform(previsores[:,14])\n",
        "previsores[:,16] = labelencoder.fit_transform(previsores[:,16])\n",
        "previsores[:,18] = labelencoder.fit_transform(previsores[:,18])\n",
        "previsores[:,19] = labelencoder.fit_transform(previsores[:,19])"
      ],
      "execution_count": 18,
      "outputs": []
    },
    {
      "cell_type": "code",
      "metadata": {
        "id": "Pttmhhd24d7R"
      },
      "source": [
        "# Divisão da base de dados entre treinamento e teste (30% para testar e 70% para treinar)\n",
        "X_treinamento, X_teste, y_treinamento, y_teste = train_test_split(previsores,\n",
        "                                                                  classe,\n",
        "                                                                  test_size = 0.3,\n",
        "                                                                  random_state = 0)"
      ],
      "execution_count": 19,
      "outputs": []
    },
    {
      "cell_type": "code",
      "metadata": {
        "colab": {
          "base_uri": "https://localhost:8080/"
        },
        "id": "8oO7LlAx4-K-",
        "outputId": "658461fb-94fb-4e4c-fa47-dd867be7d68d"
      },
      "source": [
        "# Criação do modelo, obtenção das previsoes e da taxa de acerto\n",
        "floresta = RandomForestClassifier(n_estimators= 100)\n",
        "floresta.fit(X_treinamento, y_treinamento)"
      ],
      "execution_count": 21,
      "outputs": [
        {
          "output_type": "execute_result",
          "data": {
            "text/plain": [
              "RandomForestClassifier(bootstrap=True, ccp_alpha=0.0, class_weight=None,\n",
              "                       criterion='gini', max_depth=None, max_features='auto',\n",
              "                       max_leaf_nodes=None, max_samples=None,\n",
              "                       min_impurity_decrease=0.0, min_impurity_split=None,\n",
              "                       min_samples_leaf=1, min_samples_split=2,\n",
              "                       min_weight_fraction_leaf=0.0, n_estimators=100,\n",
              "                       n_jobs=None, oob_score=False, random_state=None,\n",
              "                       verbose=0, warm_start=False)"
            ]
          },
          "metadata": {
            "tags": []
          },
          "execution_count": 21
        }
      ]
    },
    {
      "cell_type": "code",
      "metadata": {
        "colab": {
          "base_uri": "https://localhost:8080/"
        },
        "id": "tzbQtJtu5fyF",
        "outputId": "433a5c8c-5fd5-4a1b-fdf7-e07cb11929d2"
      },
      "source": [
        "# Visualizando os atributos principais\n",
        "floresta.estimators_[1]"
      ],
      "execution_count": 22,
      "outputs": [
        {
          "output_type": "execute_result",
          "data": {
            "text/plain": [
              "DecisionTreeClassifier(ccp_alpha=0.0, class_weight=None, criterion='gini',\n",
              "                       max_depth=None, max_features='auto', max_leaf_nodes=None,\n",
              "                       min_impurity_decrease=0.0, min_impurity_split=None,\n",
              "                       min_samples_leaf=1, min_samples_split=2,\n",
              "                       min_weight_fraction_leaf=0.0, presort='deprecated',\n",
              "                       random_state=385391020, splitter='best')"
            ]
          },
          "metadata": {
            "tags": []
          },
          "execution_count": 22
        }
      ]
    },
    {
      "cell_type": "markdown",
      "metadata": {
        "id": "B-nRuHo-6d8o"
      },
      "source": [
        "# Gerando Previsões em dados de Teste"
      ]
    },
    {
      "cell_type": "code",
      "metadata": {
        "id": "wyNLLdoc50Om"
      },
      "source": [
        "previsoes = floresta.predict(X_teste)\n",
        "confusao = confusion_matrix(y_teste, previsoes)\n",
        "taxa_acerto = accuracy_score(y_teste, previsoes)"
      ],
      "execution_count": 24,
      "outputs": []
    },
    {
      "cell_type": "code",
      "metadata": {
        "colab": {
          "base_uri": "https://localhost:8080/"
        },
        "id": "NhiwTjIV62x3",
        "outputId": "b039ac60-c304-480a-bc81-0430d2555013"
      },
      "source": [
        "taxa_acerto"
      ],
      "execution_count": 26,
      "outputs": [
        {
          "output_type": "execute_result",
          "data": {
            "text/plain": [
              "0.78"
            ]
          },
          "metadata": {
            "tags": []
          },
          "execution_count": 26
        }
      ]
    },
    {
      "cell_type": "code",
      "metadata": {
        "id": "c2QkkoxY64Gu"
      },
      "source": [
        ""
      ],
      "execution_count": null,
      "outputs": []
    }
  ]
}