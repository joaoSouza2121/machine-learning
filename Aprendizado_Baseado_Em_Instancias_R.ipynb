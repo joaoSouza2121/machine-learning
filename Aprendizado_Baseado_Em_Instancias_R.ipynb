{
  "nbformat": 4,
  "nbformat_minor": 0,
  "metadata": {
    "colab": {
      "name": "Aprendizado-Baseado-Em-Instancias-R.ipynb",
      "provenance": [],
      "authorship_tag": "ABX9TyMlfTIwle/hk0qqZpW/mWO9",
      "include_colab_link": true
    },
    "kernelspec": {
      "name": "ir",
      "display_name": "R"
    },
    "language_info": {
      "name": "R"
    }
  },
  "cells": [
    {
      "cell_type": "markdown",
      "metadata": {
        "id": "view-in-github",
        "colab_type": "text"
      },
      "source": [
        "<a href=\"https://colab.research.google.com/github/joaoSouza2121/machine-learning/blob/main/Aprendizado_Baseado_Em_Instancias_R.ipynb\" target=\"_parent\"><img src=\"https://colab.research.google.com/assets/colab-badge.svg\" alt=\"Open In Colab\"/></a>"
      ]
    },
    {
      "cell_type": "markdown",
      "metadata": {
        "id": "wa3fcEY0rWhL"
      },
      "source": [
        "#Aprendizado Basedo em Instância"
      ]
    },
    {
      "cell_type": "code",
      "metadata": {
        "colab": {
          "base_uri": "https://localhost:8080/"
        },
        "id": "vObc0oUarMd5",
        "outputId": "1c21d71b-c62a-4063-9a58-8f7e205d8b1e"
      },
      "source": [
        "install.packages(\"class\")\n",
        "library(class)"
      ],
      "execution_count": 2,
      "outputs": [
        {
          "output_type": "stream",
          "text": [
            "Installing package into ‘/usr/local/lib/R/site-library’\n",
            "(as ‘lib’ is unspecified)\n",
            "\n"
          ],
          "name": "stderr"
        }
      ]
    },
    {
      "cell_type": "code",
      "metadata": {
        "colab": {
          "base_uri": "https://localhost:8080/",
          "height": 283
        },
        "id": "vb6Qh7KZr1O3",
        "outputId": "3a35736c-b1ff-43e1-83b4-cc3107ccbe10"
      },
      "source": [
        "head(iris)"
      ],
      "execution_count": 3,
      "outputs": [
        {
          "output_type": "display_data",
          "data": {
            "text/plain": [
              "  Sepal.Length Sepal.Width Petal.Length Petal.Width Species\n",
              "1 5.1          3.5         1.4          0.2         setosa \n",
              "2 4.9          3.0         1.4          0.2         setosa \n",
              "3 4.7          3.2         1.3          0.2         setosa \n",
              "4 4.6          3.1         1.5          0.2         setosa \n",
              "5 5.0          3.6         1.4          0.2         setosa \n",
              "6 5.4          3.9         1.7          0.4         setosa "
            ],
            "text/latex": "A data.frame: 6 × 5\n\\begin{tabular}{r|lllll}\n  & Sepal.Length & Sepal.Width & Petal.Length & Petal.Width & Species\\\\\n  & <dbl> & <dbl> & <dbl> & <dbl> & <fct>\\\\\n\\hline\n\t1 & 5.1 & 3.5 & 1.4 & 0.2 & setosa\\\\\n\t2 & 4.9 & 3.0 & 1.4 & 0.2 & setosa\\\\\n\t3 & 4.7 & 3.2 & 1.3 & 0.2 & setosa\\\\\n\t4 & 4.6 & 3.1 & 1.5 & 0.2 & setosa\\\\\n\t5 & 5.0 & 3.6 & 1.4 & 0.2 & setosa\\\\\n\t6 & 5.4 & 3.9 & 1.7 & 0.4 & setosa\\\\\n\\end{tabular}\n",
            "text/markdown": "\nA data.frame: 6 × 5\n\n| <!--/--> | Sepal.Length &lt;dbl&gt; | Sepal.Width &lt;dbl&gt; | Petal.Length &lt;dbl&gt; | Petal.Width &lt;dbl&gt; | Species &lt;fct&gt; |\n|---|---|---|---|---|---|\n| 1 | 5.1 | 3.5 | 1.4 | 0.2 | setosa |\n| 2 | 4.9 | 3.0 | 1.4 | 0.2 | setosa |\n| 3 | 4.7 | 3.2 | 1.3 | 0.2 | setosa |\n| 4 | 4.6 | 3.1 | 1.5 | 0.2 | setosa |\n| 5 | 5.0 | 3.6 | 1.4 | 0.2 | setosa |\n| 6 | 5.4 | 3.9 | 1.7 | 0.4 | setosa |\n\n",
            "text/html": [
              "<table class=\"dataframe\">\n",
              "<caption>A data.frame: 6 × 5</caption>\n",
              "<thead>\n",
              "\t<tr><th></th><th scope=col>Sepal.Length</th><th scope=col>Sepal.Width</th><th scope=col>Petal.Length</th><th scope=col>Petal.Width</th><th scope=col>Species</th></tr>\n",
              "\t<tr><th></th><th scope=col>&lt;dbl&gt;</th><th scope=col>&lt;dbl&gt;</th><th scope=col>&lt;dbl&gt;</th><th scope=col>&lt;dbl&gt;</th><th scope=col>&lt;fct&gt;</th></tr>\n",
              "</thead>\n",
              "<tbody>\n",
              "\t<tr><th scope=row>1</th><td>5.1</td><td>3.5</td><td>1.4</td><td>0.2</td><td>setosa</td></tr>\n",
              "\t<tr><th scope=row>2</th><td>4.9</td><td>3.0</td><td>1.4</td><td>0.2</td><td>setosa</td></tr>\n",
              "\t<tr><th scope=row>3</th><td>4.7</td><td>3.2</td><td>1.3</td><td>0.2</td><td>setosa</td></tr>\n",
              "\t<tr><th scope=row>4</th><td>4.6</td><td>3.1</td><td>1.5</td><td>0.2</td><td>setosa</td></tr>\n",
              "\t<tr><th scope=row>5</th><td>5.0</td><td>3.6</td><td>1.4</td><td>0.2</td><td>setosa</td></tr>\n",
              "\t<tr><th scope=row>6</th><td>5.4</td><td>3.9</td><td>1.7</td><td>0.4</td><td>setosa</td></tr>\n",
              "</tbody>\n",
              "</table>\n"
            ]
          },
          "metadata": {
            "tags": []
          }
        }
      ]
    },
    {
      "cell_type": "code",
      "metadata": {
        "colab": {
          "base_uri": "https://localhost:8080/",
          "height": 34
        },
        "id": "HVZNL3_1r-nr",
        "outputId": "76494377-7a0a-4ac2-dd3a-50713acaae16"
      },
      "source": [
        "dim(iris)"
      ],
      "execution_count": 4,
      "outputs": [
        {
          "output_type": "display_data",
          "data": {
            "text/plain": [
              "[1] 150   5"
            ],
            "text/latex": "\\begin{enumerate*}\n\\item 150\n\\item 5\n\\end{enumerate*}\n",
            "text/markdown": "1. 150\n2. 5\n\n\n",
            "text/html": [
              "<style>\n",
              ".list-inline {list-style: none; margin:0; padding: 0}\n",
              ".list-inline>li {display: inline-block}\n",
              ".list-inline>li:not(:last-child)::after {content: \"\\00b7\"; padding: 0 .5ex}\n",
              "</style>\n",
              "<ol class=list-inline><li>150</li><li>5</li></ol>\n"
            ]
          },
          "metadata": {
            "tags": []
          }
        }
      ]
    },
    {
      "cell_type": "code",
      "metadata": {
        "id": "LjoRqPzfsCOR"
      },
      "source": [
        "# Divisão em treino e teste\n",
        "amostra <- sample(2, 150, replace = T, prob = c(0.7, 0.3))\n",
        "iristreino <- iris[amostra==1, ]\n",
        "iristeste <- iris[amostra==2, ]"
      ],
      "execution_count": 6,
      "outputs": []
    },
    {
      "cell_type": "code",
      "metadata": {
        "colab": {
          "base_uri": "https://localhost:8080/"
        },
        "id": "wLlkSwCcsbZT",
        "outputId": "65ab210d-92b3-4176-8588-1e623b313cc2"
      },
      "source": [
        "print(dim(iristreino))\n",
        "print(dim(iristeste))"
      ],
      "execution_count": 7,
      "outputs": [
        {
          "output_type": "stream",
          "text": [
            "[1] 101   5\n",
            "[1] 49  5\n"
          ],
          "name": "stdout"
        }
      ]
    },
    {
      "cell_type": "markdown",
      "metadata": {
        "id": "3JMBu5CDs8-S"
      },
      "source": [
        "Fazendo a classificação sem criar o modelo\n",
        "\n",
        "Dados de treino (instancias), dados de teste, classe real, numero de vizinhos considerados."
      ]
    },
    {
      "cell_type": "code",
      "metadata": {
        "id": "fRUVii6tswvf"
      },
      "source": [
        "previsao <- knn(iristreino[, 1:4], iristeste[, 1:4], iristreino[,5], k=3)"
      ],
      "execution_count": 8,
      "outputs": []
    },
    {
      "cell_type": "code",
      "metadata": {
        "colab": {
          "base_uri": "https://localhost:8080/",
          "height": 102
        },
        "id": "GtPGmsHytdyV",
        "outputId": "77ba50da-0955-4cf7-e5b2-522605406d1b"
      },
      "source": [
        "# Matriz de confusão\n",
        "tabela <- table(iristeste[,5], previsao)\n",
        "tabela"
      ],
      "execution_count": 10,
      "outputs": [
        {
          "output_type": "display_data",
          "data": {
            "text/plain": [
              "            previsao\n",
              "             setosa versicolor virginica\n",
              "  setosa         16          0         0\n",
              "  versicolor      0         11         2\n",
              "  virginica       0          2        18"
            ]
          },
          "metadata": {
            "tags": []
          }
        }
      ]
    },
    {
      "cell_type": "code",
      "metadata": {
        "colab": {
          "base_uri": "https://localhost:8080/",
          "height": 34
        },
        "id": "FuB0gk6yt1LC",
        "outputId": "d78e2b05-3cb2-4dfd-8384-3c0ac752744d"
      },
      "source": [
        "# Avaliando a performance\n",
        "acerto <- (tabela[1] + tabela[5] + tabela[9]) / sum(tabela)\n",
        "acerto "
      ],
      "execution_count": 12,
      "outputs": [
        {
          "output_type": "display_data",
          "data": {
            "text/plain": [
              "[1] 0.9183673"
            ],
            "text/latex": "0.918367346938776",
            "text/markdown": "0.918367346938776",
            "text/html": [
              "0.918367346938776"
            ]
          },
          "metadata": {
            "tags": []
          }
        }
      ]
    },
    {
      "cell_type": "markdown",
      "metadata": {
        "id": "jIFFDrGm0wbZ"
      },
      "source": [
        "#Ensamble Learning"
      ]
    },
    {
      "cell_type": "code",
      "metadata": {
        "colab": {
          "base_uri": "https://localhost:8080/"
        },
        "id": "kZeOA8mYuON7",
        "outputId": "3f412ac5-5a7f-47fd-f510-ad4edb3f6086"
      },
      "source": [
        "install.packages(\"randomForest\")\n",
        "library(randomForest)"
      ],
      "execution_count": 14,
      "outputs": [
        {
          "output_type": "stream",
          "text": [
            "Installing package into ‘/usr/local/lib/R/site-library’\n",
            "(as ‘lib’ is unspecified)\n",
            "\n",
            "randomForest 4.6-14\n",
            "\n",
            "Type rfNews() to see new features/changes/bug fixes.\n",
            "\n"
          ],
          "name": "stderr"
        }
      ]
    },
    {
      "cell_type": "code",
      "metadata": {
        "id": "EdxWifva1BEu"
      },
      "source": [
        "# Carrega a base de dados\n",
        "credito <- read.csv(\"dados/Credit.csv\")\n",
        "\n",
        "# Transforma em fator a variavel class\n",
        "credito$class = as.factor(credito$class)"
      ],
      "execution_count": 15,
      "outputs": []
    },
    {
      "cell_type": "code",
      "metadata": {
        "id": "eoWNnFvp1roo"
      },
      "source": [
        "# Gera uma amostra randomica e separa os dados em treino e teste\n",
        "samples <- sample(2, 1000, replace = T, prob = c(0.7, 0.3))\n",
        "cred_treino <- credito[samples==1, ]\n",
        "cred_teste <- credito[samples==2, ]"
      ],
      "execution_count": 17,
      "outputs": []
    },
    {
      "cell_type": "code",
      "metadata": {
        "id": "R4WXQKnd2Swq"
      },
      "source": [
        "#  Gera o modelo de floresta aleatoria com randomForest\n",
        "modelo <- randomForest(class ~ ., data = cred_treino, ntree = 100, importance = T)"
      ],
      "execution_count": 18,
      "outputs": []
    },
    {
      "cell_type": "code",
      "metadata": {
        "colab": {
          "base_uri": "https://localhost:8080/",
          "height": 221
        },
        "id": "xOapBSU825SZ",
        "outputId": "7a3af58e-25a2-41f2-d1e5-2ea016f293f9"
      },
      "source": [
        "# visualizando o modelo em formato de texto\n",
        "modelo"
      ],
      "execution_count": 19,
      "outputs": [
        {
          "output_type": "display_data",
          "data": {
            "text/plain": [
              "\n",
              "Call:\n",
              " randomForest(formula = class ~ ., data = cred_treino, ntree = 100,      importance = T) \n",
              "               Type of random forest: classification\n",
              "                     Number of trees: 100\n",
              "No. of variables tried at each split: 4\n",
              "\n",
              "        OOB estimate of  error rate: 21.77%\n",
              "Confusion matrix:\n",
              "     bad good class.error\n",
              "bad   84  121  0.59024390\n",
              "good  34  473  0.06706114"
            ]
          },
          "metadata": {
            "tags": []
          }
        }
      ]
    },
    {
      "cell_type": "code",
      "metadata": {
        "colab": {
          "base_uri": "https://localhost:8080/",
          "height": 437
        },
        "id": "gdejMLay3AR5",
        "outputId": "5e550142-e54f-4819-e194-ba4ee868e13b"
      },
      "source": [
        "plot(modelo)"
      ],
      "execution_count": 20,
      "outputs": [
        {
          "output_type": "display_data",
          "data": {
            "image/png": "[encoded data removed]",
            "text/plain": [
              "Plot with title “modelo”"
            ]
          },
          "metadata": {
            "tags": [],
            "image/png": {
              "width": 420,
              "height": 420
            }
          }
        }
      ]
    },
    {
      "cell_type": "code",
      "metadata": {
        "colab": {
          "base_uri": "https://localhost:8080/",
          "height": 85
        },
        "id": "AmAI-IcH3KGb",
        "outputId": "c4564ae0-9faf-42ed-fe9c-119445c65d87"
      },
      "source": [
        "# Previsão\n",
        "prever <- predict(modelo, cred_teste)\n",
        "\n",
        "# Matriz de confusao\n",
        "confusao <- table(prever, cred_teste$class)\n",
        "confusao"
      ],
      "execution_count": 21,
      "outputs": [
        {
          "output_type": "display_data",
          "data": {
            "text/plain": [
              "      \n",
              "prever bad good\n",
              "  bad   28   18\n",
              "  good  67  175"
            ]
          },
          "metadata": {
            "tags": []
          }
        }
      ]
    },
    {
      "cell_type": "code",
      "metadata": {
        "colab": {
          "base_uri": "https://localhost:8080/",
          "height": 34
        },
        "id": "x8NsLYc83mVh",
        "outputId": "71f9566d-ad77-4d1d-cb25-d91b268a6b49"
      },
      "source": [
        "# Taxa de acerto\n",
        "taxa_acerto <- (confusao[1] + confusao[4]) / sum(confusao)\n",
        "taxa_acerto"
      ],
      "execution_count": 22,
      "outputs": [
        {
          "output_type": "display_data",
          "data": {
            "text/plain": [
              "[1] 0.7048611"
            ],
            "text/latex": "0.704861111111111",
            "text/markdown": "0.704861111111111",
            "text/html": [
              "0.704861111111111"
            ]
          },
          "metadata": {
            "tags": []
          }
        }
      ]
    },
    {
      "cell_type": "markdown",
      "metadata": {
        "id": "2o5fz5El5t7T"
      },
      "source": [
        "# Codificação de Categorias"
      ]
    },
    {
      "cell_type": "code",
      "metadata": {
        "colab": {
          "base_uri": "https://localhost:8080/"
        },
        "id": "2UbVzHls3-ms",
        "outputId": "50f6d1d5-3b31-4380-9c7c-cc1718924a7b"
      },
      "source": [
        "\n",
        "install.packages('data.table')\n",
        "\n",
        "library(data.table)"
      ],
      "execution_count": 1,
      "outputs": [
        {
          "output_type": "stream",
          "text": [
            "Installing package into ‘/usr/local/lib/R/site-library’\n",
            "(as ‘lib’ is unspecified)\n",
            "\n"
          ],
          "name": "stderr"
        }
      ]
    },
    {
      "cell_type": "code",
      "metadata": {
        "id": "fU_Gom3G6Bf5"
      },
      "source": [
        "tit <- as.data.frame(Titanic)"
      ],
      "execution_count": 2,
      "outputs": []
    },
    {
      "cell_type": "markdown",
      "metadata": {
        "id": "JEbmaoA-7kOy"
      },
      "source": [
        "Data Matrix é a função nativa do R\n",
        "\n",
        "Label encoder de class, sex e age"
      ]
    },
    {
      "cell_type": "code",
      "metadata": {
        "id": "hBrEI8tl7hUA"
      },
      "source": [
        "labenc <- data.matrix(tit[, 1:3])\n",
        "labenc = as.data.frame(labenc)"
      ],
      "execution_count": 7,
      "outputs": []
    },
    {
      "cell_type": "code",
      "metadata": {
        "colab": {
          "base_uri": "https://localhost:8080/",
          "height": 283
        },
        "id": "dxm3WMTD62X0",
        "outputId": "31060c94-de1b-47b2-dc6b-bf47cda960e7"
      },
      "source": [
        "head(labenc)"
      ],
      "execution_count": 10,
      "outputs": [
        {
          "output_type": "display_data",
          "data": {
            "text/plain": [
              "  Class Sex Age\n",
              "1 1     1   1  \n",
              "2 2     1   1  \n",
              "3 3     1   1  \n",
              "4 4     1   1  \n",
              "5 1     2   1  \n",
              "6 2     2   1  "
            ],
            "text/latex": "A data.frame: 6 × 3\n\\begin{tabular}{r|lll}\n  & Class & Sex & Age\\\\\n  & <int> & <int> & <int>\\\\\n\\hline\n\t1 & 1 & 1 & 1\\\\\n\t2 & 2 & 1 & 1\\\\\n\t3 & 3 & 1 & 1\\\\\n\t4 & 4 & 1 & 1\\\\\n\t5 & 1 & 2 & 1\\\\\n\t6 & 2 & 2 & 1\\\\\n\\end{tabular}\n",
            "text/markdown": "\nA data.frame: 6 × 3\n\n| <!--/--> | Class &lt;int&gt; | Sex &lt;int&gt; | Age &lt;int&gt; |\n|---|---|---|---|\n| 1 | 1 | 1 | 1 |\n| 2 | 2 | 1 | 1 |\n| 3 | 3 | 1 | 1 |\n| 4 | 4 | 1 | 1 |\n| 5 | 1 | 2 | 1 |\n| 6 | 2 | 2 | 1 |\n\n",
            "text/html": [
              "<table class=\"dataframe\">\n",
              "<caption>A data.frame: 6 × 3</caption>\n",
              "<thead>\n",
              "\t<tr><th></th><th scope=col>Class</th><th scope=col>Sex</th><th scope=col>Age</th></tr>\n",
              "\t<tr><th></th><th scope=col>&lt;int&gt;</th><th scope=col>&lt;int&gt;</th><th scope=col>&lt;int&gt;</th></tr>\n",
              "</thead>\n",
              "<tbody>\n",
              "\t<tr><th scope=row>1</th><td>1</td><td>1</td><td>1</td></tr>\n",
              "\t<tr><th scope=row>2</th><td>2</td><td>1</td><td>1</td></tr>\n",
              "\t<tr><th scope=row>3</th><td>3</td><td>1</td><td>1</td></tr>\n",
              "\t<tr><th scope=row>4</th><td>4</td><td>1</td><td>1</td></tr>\n",
              "\t<tr><th scope=row>5</th><td>1</td><td>2</td><td>1</td></tr>\n",
              "\t<tr><th scope=row>6</th><td>2</td><td>2</td><td>1</td></tr>\n",
              "</tbody>\n",
              "</table>\n"
            ]
          },
          "metadata": {
            "tags": []
          }
        }
      ]
    },
    {
      "cell_type": "markdown",
      "metadata": {
        "id": "VQh0l_4p78SS"
      },
      "source": [
        "One Hot Encoding das mesmas colunas"
      ]
    },
    {
      "cell_type": "code",
      "metadata": {
        "colab": {
          "base_uri": "https://localhost:8080/"
        },
        "id": "hbibjIZB5TOv",
        "outputId": "c4bacc2f-c1e3-4a8f-defc-a4ad15c4679b"
      },
      "source": [
        "install.packages('mltools')\n",
        "library(mltools)"
      ],
      "execution_count": 4,
      "outputs": [
        {
          "output_type": "stream",
          "text": [
            "Installing package into ‘/usr/local/lib/R/site-library’\n",
            "(as ‘lib’ is unspecified)\n",
            "\n"
          ],
          "name": "stderr"
        }
      ]
    },
    {
      "cell_type": "code",
      "metadata": {
        "colab": {
          "base_uri": "https://localhost:8080/",
          "height": 283
        },
        "id": "1_S72TBq73qn",
        "outputId": "84c320be-773c-4ef8-b937-60dd2326d2c9"
      },
      "source": [
        "hotenc <- one_hot(as.data.table( tit[, 1:3]))\n",
        "head(hotenc)"
      ],
      "execution_count": 9,
      "outputs": [
        {
          "output_type": "display_data",
          "data": {
            "text/plain": [
              "  Class_1st Class_2nd Class_3rd Class_Crew Sex_Male Sex_Female Age_Child\n",
              "1 1         0         0         0          1        0          1        \n",
              "2 0         1         0         0          1        0          1        \n",
              "3 0         0         1         0          1        0          1        \n",
              "4 0         0         0         1          1        0          1        \n",
              "5 1         0         0         0          0        1          1        \n",
              "6 0         1         0         0          0        1          1        \n",
              "  Age_Adult\n",
              "1 0        \n",
              "2 0        \n",
              "3 0        \n",
              "4 0        \n",
              "5 0        \n",
              "6 0        "
            ],
            "text/latex": "A data.table: 6 × 8\n\\begin{tabular}{llllllll}\n Class\\_1st & Class\\_2nd & Class\\_3rd & Class\\_Crew & Sex\\_Male & Sex\\_Female & Age\\_Child & Age\\_Adult\\\\\n <int> & <int> & <int> & <int> & <int> & <int> & <int> & <int>\\\\\n\\hline\n\t 1 & 0 & 0 & 0 & 1 & 0 & 1 & 0\\\\\n\t 0 & 1 & 0 & 0 & 1 & 0 & 1 & 0\\\\\n\t 0 & 0 & 1 & 0 & 1 & 0 & 1 & 0\\\\\n\t 0 & 0 & 0 & 1 & 1 & 0 & 1 & 0\\\\\n\t 1 & 0 & 0 & 0 & 0 & 1 & 1 & 0\\\\\n\t 0 & 1 & 0 & 0 & 0 & 1 & 1 & 0\\\\\n\\end{tabular}\n",
            "text/markdown": "\nA data.table: 6 × 8\n\n| Class_1st &lt;int&gt; | Class_2nd &lt;int&gt; | Class_3rd &lt;int&gt; | Class_Crew &lt;int&gt; | Sex_Male &lt;int&gt; | Sex_Female &lt;int&gt; | Age_Child &lt;int&gt; | Age_Adult &lt;int&gt; |\n|---|---|---|---|---|---|---|---|\n| 1 | 0 | 0 | 0 | 1 | 0 | 1 | 0 |\n| 0 | 1 | 0 | 0 | 1 | 0 | 1 | 0 |\n| 0 | 0 | 1 | 0 | 1 | 0 | 1 | 0 |\n| 0 | 0 | 0 | 1 | 1 | 0 | 1 | 0 |\n| 1 | 0 | 0 | 0 | 0 | 1 | 1 | 0 |\n| 0 | 1 | 0 | 0 | 0 | 1 | 1 | 0 |\n\n",
            "text/html": [
              "<table class=\"dataframe\">\n",
              "<caption>A data.table: 6 × 8</caption>\n",
              "<thead>\n",
              "\t<tr><th scope=col>Class_1st</th><th scope=col>Class_2nd</th><th scope=col>Class_3rd</th><th scope=col>Class_Crew</th><th scope=col>Sex_Male</th><th scope=col>Sex_Female</th><th scope=col>Age_Child</th><th scope=col>Age_Adult</th></tr>\n",
              "\t<tr><th scope=col>&lt;int&gt;</th><th scope=col>&lt;int&gt;</th><th scope=col>&lt;int&gt;</th><th scope=col>&lt;int&gt;</th><th scope=col>&lt;int&gt;</th><th scope=col>&lt;int&gt;</th><th scope=col>&lt;int&gt;</th><th scope=col>&lt;int&gt;</th></tr>\n",
              "</thead>\n",
              "<tbody>\n",
              "\t<tr><td>1</td><td>0</td><td>0</td><td>0</td><td>1</td><td>0</td><td>1</td><td>0</td></tr>\n",
              "\t<tr><td>0</td><td>1</td><td>0</td><td>0</td><td>1</td><td>0</td><td>1</td><td>0</td></tr>\n",
              "\t<tr><td>0</td><td>0</td><td>1</td><td>0</td><td>1</td><td>0</td><td>1</td><td>0</td></tr>\n",
              "\t<tr><td>0</td><td>0</td><td>0</td><td>1</td><td>1</td><td>0</td><td>1</td><td>0</td></tr>\n",
              "\t<tr><td>1</td><td>0</td><td>0</td><td>0</td><td>0</td><td>1</td><td>1</td><td>0</td></tr>\n",
              "\t<tr><td>0</td><td>1</td><td>0</td><td>0</td><td>0</td><td>1</td><td>1</td><td>0</td></tr>\n",
              "</tbody>\n",
              "</table>\n"
            ]
          },
          "metadata": {
            "tags": []
          }
        }
      ]
    },
    {
      "cell_type": "markdown",
      "metadata": {
        "id": "6JJUKfjE7lK-"
      },
      "source": [
        "#Dimensionamento de Características"
      ]
    },
    {
      "cell_type": "markdown",
      "metadata": {
        "id": "DNpyM-TY7yeK"
      },
      "source": [
        "<font color=\"orange\">Padronização</font>"
      ]
    },
    {
      "cell_type": "code",
      "metadata": {
        "colab": {
          "base_uri": "https://localhost:8080/",
          "height": 252
        },
        "id": "w7-azGx08Yeq",
        "outputId": "4d19f8b3-612d-4c4d-a2f7-b02d47192338"
      },
      "source": [
        "iris_pad <- scale(iris[, 1:4])\n",
        "head(iris_pad)"
      ],
      "execution_count": 18,
      "outputs": [
        {
          "output_type": "display_data",
          "data": {
            "text/plain": [
              "     Sepal.Length Sepal.Width Petal.Length Petal.Width\n",
              "[1,] -0.8976739    1.01560199 -1.335752    -1.311052  \n",
              "[2,] -1.1392005   -0.13153881 -1.335752    -1.311052  \n",
              "[3,] -1.3807271    0.32731751 -1.392399    -1.311052  \n",
              "[4,] -1.5014904    0.09788935 -1.279104    -1.311052  \n",
              "[5,] -1.0184372    1.24503015 -1.335752    -1.311052  \n",
              "[6,] -0.5353840    1.93331463 -1.165809    -1.048667  "
            ],
            "text/latex": "A matrix: 6 × 4 of type dbl\n\\begin{tabular}{llll}\n Sepal.Length & Sepal.Width & Petal.Length & Petal.Width\\\\\n\\hline\n\t -0.8976739 &  1.01560199 & -1.335752 & -1.311052\\\\\n\t -1.1392005 & -0.13153881 & -1.335752 & -1.311052\\\\\n\t -1.3807271 &  0.32731751 & -1.392399 & -1.311052\\\\\n\t -1.5014904 &  0.09788935 & -1.279104 & -1.311052\\\\\n\t -1.0184372 &  1.24503015 & -1.335752 & -1.311052\\\\\n\t -0.5353840 &  1.93331463 & -1.165809 & -1.048667\\\\\n\\end{tabular}\n",
            "text/markdown": "\nA matrix: 6 × 4 of type dbl\n\n| Sepal.Length | Sepal.Width | Petal.Length | Petal.Width |\n|---|---|---|---|\n| -0.8976739 |  1.01560199 | -1.335752 | -1.311052 |\n| -1.1392005 | -0.13153881 | -1.335752 | -1.311052 |\n| -1.3807271 |  0.32731751 | -1.392399 | -1.311052 |\n| -1.5014904 |  0.09788935 | -1.279104 | -1.311052 |\n| -1.0184372 |  1.24503015 | -1.335752 | -1.311052 |\n| -0.5353840 |  1.93331463 | -1.165809 | -1.048667 |\n\n",
            "text/html": [
              "<table class=\"dataframe\">\n",
              "<caption>A matrix: 6 × 4 of type dbl</caption>\n",
              "<thead>\n",
              "\t<tr><th scope=col>Sepal.Length</th><th scope=col>Sepal.Width</th><th scope=col>Petal.Length</th><th scope=col>Petal.Width</th></tr>\n",
              "</thead>\n",
              "<tbody>\n",
              "\t<tr><td>-0.8976739</td><td> 1.01560199</td><td>-1.335752</td><td>-1.311052</td></tr>\n",
              "\t<tr><td>-1.1392005</td><td>-0.13153881</td><td>-1.335752</td><td>-1.311052</td></tr>\n",
              "\t<tr><td>-1.3807271</td><td> 0.32731751</td><td>-1.392399</td><td>-1.311052</td></tr>\n",
              "\t<tr><td>-1.5014904</td><td> 0.09788935</td><td>-1.279104</td><td>-1.311052</td></tr>\n",
              "\t<tr><td>-1.0184372</td><td> 1.24503015</td><td>-1.335752</td><td>-1.311052</td></tr>\n",
              "\t<tr><td>-0.5353840</td><td> 1.93331463</td><td>-1.165809</td><td>-1.048667</td></tr>\n",
              "</tbody>\n",
              "</table>\n"
            ]
          },
          "metadata": {
            "tags": []
          }
        }
      ]
    },
    {
      "cell_type": "markdown",
      "metadata": {
        "id": "L7fGuEt_8QwW"
      },
      "source": [
        "Função para Normalização"
      ]
    },
    {
      "cell_type": "code",
      "metadata": {
        "id": "_VZXs1uK8KJY"
      },
      "source": [
        "normaliza = function(x){\n",
        "  return(((x-min(x))/max(x)-min(x)))\n",
        "}"
      ],
      "execution_count": 15,
      "outputs": []
    },
    {
      "cell_type": "markdown",
      "metadata": {
        "id": "NiAC5U-S8jaQ"
      },
      "source": [
        "<font color=\"green\">Aplicando a normalização</font>"
      ]
    },
    {
      "cell_type": "code",
      "metadata": {
        "colab": {
          "base_uri": "https://localhost:8080/",
          "height": 283
        },
        "id": "C_ClXbLu8hp0",
        "outputId": "05f8f0ea-c3e3-4199-94b0-25bf3baa9bc4"
      },
      "source": [
        "iris_norm <- normaliza(iris[, 1:4])\n",
        "head(iris_norm)"
      ],
      "execution_count": 19,
      "outputs": [
        {
          "output_type": "display_data",
          "data": {
            "text/plain": [
              "  Sepal.Length Sepal.Width Petal.Length Petal.Width\n",
              "1 0.5329114    0.3303797   0.06455696   -0.08734177\n",
              "2 0.5075949    0.2670886   0.06455696   -0.08734177\n",
              "3 0.4822785    0.2924051   0.05189873   -0.08734177\n",
              "4 0.4696203    0.2797468   0.07721519   -0.08734177\n",
              "5 0.5202532    0.3430380   0.06455696   -0.08734177\n",
              "6 0.5708861    0.3810127   0.10253165   -0.06202532"
            ],
            "text/latex": "A data.frame: 6 × 4\n\\begin{tabular}{r|llll}\n  & Sepal.Length & Sepal.Width & Petal.Length & Petal.Width\\\\\n  & <dbl> & <dbl> & <dbl> & <dbl>\\\\\n\\hline\n\t1 & 0.5329114 & 0.3303797 & 0.06455696 & -0.08734177\\\\\n\t2 & 0.5075949 & 0.2670886 & 0.06455696 & -0.08734177\\\\\n\t3 & 0.4822785 & 0.2924051 & 0.05189873 & -0.08734177\\\\\n\t4 & 0.4696203 & 0.2797468 & 0.07721519 & -0.08734177\\\\\n\t5 & 0.5202532 & 0.3430380 & 0.06455696 & -0.08734177\\\\\n\t6 & 0.5708861 & 0.3810127 & 0.10253165 & -0.06202532\\\\\n\\end{tabular}\n",
            "text/markdown": "\nA data.frame: 6 × 4\n\n| <!--/--> | Sepal.Length &lt;dbl&gt; | Sepal.Width &lt;dbl&gt; | Petal.Length &lt;dbl&gt; | Petal.Width &lt;dbl&gt; |\n|---|---|---|---|---|\n| 1 | 0.5329114 | 0.3303797 | 0.06455696 | -0.08734177 |\n| 2 | 0.5075949 | 0.2670886 | 0.06455696 | -0.08734177 |\n| 3 | 0.4822785 | 0.2924051 | 0.05189873 | -0.08734177 |\n| 4 | 0.4696203 | 0.2797468 | 0.07721519 | -0.08734177 |\n| 5 | 0.5202532 | 0.3430380 | 0.06455696 | -0.08734177 |\n| 6 | 0.5708861 | 0.3810127 | 0.10253165 | -0.06202532 |\n\n",
            "text/html": [
              "<table class=\"dataframe\">\n",
              "<caption>A data.frame: 6 × 4</caption>\n",
              "<thead>\n",
              "\t<tr><th></th><th scope=col>Sepal.Length</th><th scope=col>Sepal.Width</th><th scope=col>Petal.Length</th><th scope=col>Petal.Width</th></tr>\n",
              "\t<tr><th></th><th scope=col>&lt;dbl&gt;</th><th scope=col>&lt;dbl&gt;</th><th scope=col>&lt;dbl&gt;</th><th scope=col>&lt;dbl&gt;</th></tr>\n",
              "</thead>\n",
              "<tbody>\n",
              "\t<tr><th scope=row>1</th><td>0.5329114</td><td>0.3303797</td><td>0.06455696</td><td>-0.08734177</td></tr>\n",
              "\t<tr><th scope=row>2</th><td>0.5075949</td><td>0.2670886</td><td>0.06455696</td><td>-0.08734177</td></tr>\n",
              "\t<tr><th scope=row>3</th><td>0.4822785</td><td>0.2924051</td><td>0.05189873</td><td>-0.08734177</td></tr>\n",
              "\t<tr><th scope=row>4</th><td>0.4696203</td><td>0.2797468</td><td>0.07721519</td><td>-0.08734177</td></tr>\n",
              "\t<tr><th scope=row>5</th><td>0.5202532</td><td>0.3430380</td><td>0.06455696</td><td>-0.08734177</td></tr>\n",
              "\t<tr><th scope=row>6</th><td>0.5708861</td><td>0.3810127</td><td>0.10253165</td><td>-0.06202532</td></tr>\n",
              "</tbody>\n",
              "</table>\n"
            ]
          },
          "metadata": {
            "tags": []
          }
        }
      ]
    },
    {
      "cell_type": "markdown",
      "metadata": {
        "id": "lQ950XnR9IAi"
      },
      "source": [
        "#<font color=\"blue\">Comparando os dois modelos</font>"
      ]
    },
    {
      "cell_type": "code",
      "metadata": {
        "colab": {
          "base_uri": "https://localhost:8080/",
          "height": 1000
        },
        "id": "cwIW5U1786em",
        "outputId": "9f2786b3-0898-437b-ffcc-cbfbca0b284d"
      },
      "source": [
        "boxplot(iris[, 1:4], main = \"Dados Originais\")\n",
        "boxplot(iris_pad, main = \"Pados Padronizados\")\n",
        "boxplot(iris_norm, main = \"Dados Normalizados\")"
      ],
      "execution_count": 20,
      "outputs": [
        {
          "output_type": "display_data",
          "data": {
            "image/png": "[encoded data removed]",
            "text/plain": [
              "Plot with title “Dados Originais”"
            ]
          },
          "metadata": {
            "tags": [],
            "image/png": {
              "width": 420,
              "height": 420
            }
          }
        },
        {
          "output_type": "display_data",
          "data": {
            "image/png": "[encoded data removed]",
            "text/plain": [
              "Plot with title “Pados Padronizados”"
            ]
          },
          "metadata": {
            "tags": [],
            "image/png": {
              "width": 420,
              "height": 420
            }
          }
        },
        {
          "output_type": "display_data",
          "data": {
            "image/png": "[encoded data removed]",
            "text/plain": [
              "Plot with title “Dados Normalizados”"
            ]
          },
          "metadata": {
            "tags": [],
            "image/png": {
              "width": 420,
              "height": 420
            }
          }
        }
      ]
    },
    {
      "cell_type": "code",
      "metadata": {
        "id": "uUW20ERt9zac"
      },
      "source": [
        ""
      ],
      "execution_count": null,
      "outputs": []
    }
  ]
}