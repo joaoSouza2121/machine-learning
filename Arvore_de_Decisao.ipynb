{
  "nbformat": 4,
  "nbformat_minor": 0,
  "metadata": {
    "colab": {
      "name": "Arvore-de-Decisao.ipynb",
      "provenance": [],
      "authorship_tag": "ABX9TyNFakP3GUWFddICd9z9dE7H",
      "include_colab_link": true
    },
    "kernelspec": {
      "name": "python3",
      "display_name": "Python 3"
    },
    "language_info": {
      "name": "python"
    }
  },
  "cells": [
    {
      "cell_type": "markdown",
      "metadata": {
        "id": "view-in-github",
        "colab_type": "text"
      },
      "source": [
        "<a href=\"https://colab.research.google.com/github/joaoSouza2121/machine-learning/blob/main/Arvore_de_Decisao.ipynb\" target=\"_parent\"><img src=\"https://colab.research.google.com/assets/colab-badge.svg\" alt=\"Open In Colab\"/></a>"
      ]
    },
    {
      "cell_type": "markdown",
      "metadata": {
        "id": "WKUEVgMpcTmW"
      },
      "source": [
        "#<font color=\"blue\">Machine Learning</font>\n",
        "\n",
        "#Árvores de Decisão"
      ]
    },
    {
      "cell_type": "code",
      "metadata": {
        "id": "b7H20PxKcUNP"
      },
      "source": [
        "# Imports\n",
        "import pandas as pd\n",
        "import numpy as np\n",
        "from sklearn.model_selection import train_test_split\n",
        "from sklearn.tree import DecisionTreeClassifier\n",
        "from sklearn.preprocessing import LabelEncoder\n",
        "from sklearn.metrics import confusion_matrix, accuracy_score\n",
        "import graphviz\n",
        "from sklearn.tree import export_graphviz"
      ],
      "execution_count": 1,
      "outputs": []
    },
    {
      "cell_type": "code",
      "metadata": {
        "colab": {
          "base_uri": "https://localhost:8080/"
        },
        "id": "jLu0KoU1dRuF",
        "outputId": "6848d476-6c59-4dcf-8036-741cd95fba19"
      },
      "source": [
        "# Carregando a base de Dados\n",
        "credito = pd.read_csv(\"dados/Credit.csv\")\n",
        "credito.shape"
      ],
      "execution_count": 2,
      "outputs": [
        {
          "output_type": "execute_result",
          "data": {
            "text/plain": [
              "(1000, 21)"
            ]
          },
          "metadata": {
            "tags": []
          },
          "execution_count": 2
        }
      ]
    },
    {
      "cell_type": "code",
      "metadata": {
        "id": "xeTZ7sXOdnJe"
      },
      "source": [
        "# Transformando em formato de matriz\n",
        "previsores = credito.iloc[:, 0:20].values\n",
        "classe = credito.iloc[:, 20].values"
      ],
      "execution_count": 3,
      "outputs": []
    },
    {
      "cell_type": "markdown",
      "metadata": {
        "id": "qTsQZIbDduo7"
      },
      "source": [
        "#<font color=\"red\">Label Encoding</font>"
      ]
    },
    {
      "cell_type": "code",
      "metadata": {
        "id": "n4Nzjq9Qdts6"
      },
      "source": [
        "# Transformação dos atributos categóricos em atributos numéricos, passando o índice de cada coluna categórica\n",
        "# Precisamos criar um objeto para cada atributo categórico, pois na sequência vamos executar o processo de encoding novamente para o registro de teste\n",
        "# Obs => Se forem utilizados objetos diferentes, o número atribuído a cada valor poderá ser diferente, o que deixará o teste inconsistente\n",
        "labelencoder = LabelEncoder()\n",
        "previsores[:,0] = labelencoder.fit_transform(previsores[:,0])\n",
        "previsores[:,2] = labelencoder.fit_transform(previsores[:,2])\n",
        "previsores[:,3] = labelencoder.fit_transform(previsores[:,3])\n",
        "previsores[:,5] = labelencoder.fit_transform(previsores[:,5])\n",
        "previsores[:,6] = labelencoder.fit_transform(previsores[:,6])\n",
        "previsores[:,8] = labelencoder.fit_transform(previsores[:,8])\n",
        "previsores[:,9] = labelencoder.fit_transform(previsores[:,9])\n",
        "previsores[:,11] = labelencoder.fit_transform(previsores[:,11])\n",
        "previsores[:,13] = labelencoder.fit_transform(previsores[:,13])\n",
        "previsores[:,14] = labelencoder.fit_transform(previsores[:,14])\n",
        "previsores[:,16] = labelencoder.fit_transform(previsores[:,16])\n",
        "previsores[:,18] = labelencoder.fit_transform(previsores[:,18])\n",
        "previsores[:,19] = labelencoder.fit_transform(previsores[:,19])"
      ],
      "execution_count": 4,
      "outputs": []
    },
    {
      "cell_type": "code",
      "metadata": {
        "colab": {
          "base_uri": "https://localhost:8080/"
        },
        "id": "rbouRejEft_P",
        "outputId": "cc028780-29bf-45d2-c9a6-72b140eebb2d"
      },
      "source": [
        "# Divisão da base de dados entre treinamento e teste (30% para testar e 70% para treinar)\n",
        "X_treinamento, X_teste, y_treinamento, y_teste = train_test_split(previsores,\n",
        "                                                                  classe,\n",
        "                                                                  test_size = 0.3,\n",
        "                                                                  random_state = 0)\n",
        "X_teste"
      ],
      "execution_count": 5,
      "outputs": [
        {
          "output_type": "execute_result",
          "data": {
            "text/plain": [
              "array([[2, 36, 3, ..., 1, 1, 1],\n",
              "       [0, 9, 3, ..., 2, 0, 0],\n",
              "       [0, 18, 3, ..., 1, 1, 1],\n",
              "       ...,\n",
              "       [0, 24, 1, ..., 1, 0, 1],\n",
              "       [1, 27, 4, ..., 1, 1, 1],\n",
              "       [1, 12, 3, ..., 1, 0, 1]], dtype=object)"
            ]
          },
          "metadata": {
            "tags": []
          },
          "execution_count": 5
        }
      ]
    },
    {
      "cell_type": "markdown",
      "metadata": {
        "id": "f6MHYstxgBCu"
      },
      "source": [
        "#Gerando a arvore de decisão"
      ]
    },
    {
      "cell_type": "code",
      "metadata": {
        "colab": {
          "base_uri": "https://localhost:8080/"
        },
        "id": "W07W4OfXf03a",
        "outputId": "ca2d22de-5868-47bc-c7a6-06eec3e7dd80"
      },
      "source": [
        "arvore = DecisionTreeClassifier()\n",
        "arvore.fit(X_treinamento, y_treinamento)"
      ],
      "execution_count": 7,
      "outputs": [
        {
          "output_type": "execute_result",
          "data": {
            "text/plain": [
              "DecisionTreeClassifier(ccp_alpha=0.0, class_weight=None, criterion='gini',\n",
              "                       max_depth=None, max_features=None, max_leaf_nodes=None,\n",
              "                       min_impurity_decrease=0.0, min_impurity_split=None,\n",
              "                       min_samples_leaf=1, min_samples_split=2,\n",
              "                       min_weight_fraction_leaf=0.0, presort='deprecated',\n",
              "                       random_state=None, splitter='best')"
            ]
          },
          "metadata": {
            "tags": []
          },
          "execution_count": 7
        }
      ]
    },
    {
      "cell_type": "code",
      "metadata": {
        "id": "u0jR782YgRBQ"
      },
      "source": [
        "# Exportação da arvore de decisão para o formato .dot, para posterior visualização\n",
        "export_graphviz(arvore, out_file= 'tree.dot')"
      ],
      "execution_count": 8,
      "outputs": []
    },
    {
      "cell_type": "markdown",
      "metadata": {
        "id": "Uiae6xtOhAAO"
      },
      "source": [
        "#Gerando Previsoes nos dados de Treino"
      ]
    },
    {
      "cell_type": "code",
      "metadata": {
        "id": "W0Wv3H8Bg8zL"
      },
      "source": [
        "previsoes = arvore.predict(X_teste)"
      ],
      "execution_count": 9,
      "outputs": []
    },
    {
      "cell_type": "markdown",
      "metadata": {
        "id": "0ViFLCm0hPmQ"
      },
      "source": [
        "Matriz de Confusão"
      ]
    },
    {
      "cell_type": "code",
      "metadata": {
        "colab": {
          "base_uri": "https://localhost:8080/"
        },
        "id": "26HK0ohMhR_9",
        "outputId": "19969b05-cd21-4887-c781-5d953fa99c58"
      },
      "source": [
        "confusao = confusion_matrix(y_teste, previsoes)\n",
        "confusao "
      ],
      "execution_count": 10,
      "outputs": [
        {
          "output_type": "execute_result",
          "data": {
            "text/plain": [
              "array([[ 41,  45],\n",
              "       [ 54, 160]])"
            ]
          },
          "metadata": {
            "tags": []
          },
          "execution_count": 10
        }
      ]
    },
    {
      "cell_type": "markdown",
      "metadata": {
        "id": "h9UneJWohYiT"
      },
      "source": [
        "#Avaliando a performance do modelo"
      ]
    },
    {
      "cell_type": "code",
      "metadata": {
        "colab": {
          "base_uri": "https://localhost:8080/"
        },
        "id": "y7DEyB9Qhczm",
        "outputId": "3987b2c2-f932-4865-8d75-79af162a0950"
      },
      "source": [
        "taxa_acerto = accuracy_score(y_teste, previsoes)\n",
        "taxa_acerto"
      ],
      "execution_count": 11,
      "outputs": [
        {
          "output_type": "execute_result",
          "data": {
            "text/plain": [
              "0.67"
            ]
          },
          "metadata": {
            "tags": []
          },
          "execution_count": 11
        }
      ]
    },
    {
      "cell_type": "code",
      "metadata": {
        "id": "saBFbpkihjow"
      },
      "source": [
        ""
      ],
      "execution_count": null,
      "outputs": []
    }
  ]
}