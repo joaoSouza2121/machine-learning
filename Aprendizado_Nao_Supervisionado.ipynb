{
  "nbformat": 4,
  "nbformat_minor": 0,
  "metadata": {
    "colab": {
      "name": "Aprendizado-Nao-Supervisionado.ipynb",
      "provenance": [],
      "authorship_tag": "ABX9TyO9sp2RdsLGgZb/VqTmz5R3",
      "include_colab_link": true
    },
    "kernelspec": {
      "name": "python3",
      "display_name": "Python 3"
    },
    "language_info": {
      "name": "python"
    }
  },
  "cells": [
    {
      "cell_type": "markdown",
      "metadata": {
        "id": "view-in-github",
        "colab_type": "text"
      },
      "source": [
        "<a href=\"https://colab.research.google.com/github/joaoSouza2121/machine-learning/blob/main/Aprendizado_Nao_Supervisionado.ipynb\" target=\"_parent\"><img src=\"https://colab.research.google.com/assets/colab-badge.svg\" alt=\"Open In Colab\"/></a>"
      ]
    },
    {
      "cell_type": "markdown",
      "metadata": {
        "id": "PwP-BdCmbIi6"
      },
      "source": [
        "#<font color=\"blue\">Machine Learning</font>\n",
        "\n",
        "Algoritmo - K-means"
      ]
    },
    {
      "cell_type": "code",
      "metadata": {
        "id": "yMJ224t6aYhQ"
      },
      "source": [
        "# Imports\n",
        "import pandas as pd\n",
        "import numpy as np\n",
        "from sklearn import datasets\n",
        "from sklearn.metrics import confusion_matrix, accuracy_score\n",
        "import matplotlib.pyplot as plt\n",
        "from sklearn.cluster import KMeans\n"
      ],
      "execution_count": 1,
      "outputs": []
    },
    {
      "cell_type": "code",
      "metadata": {
        "colab": {
          "base_uri": "https://localhost:8080/"
        },
        "id": "aUcUY-INb7rG",
        "outputId": "1d69f339-684b-47cb-ec03-6e2bb30de65b"
      },
      "source": [
        "# Carregando a base de dados\n",
        "iris = datasets.load_iris()\n",
        "# visualização de quantos registros existem por classe\n",
        "unicos, quantidade = np.unique(iris.target, return_counts=True)\n",
        "unicos\n",
        "                               "
      ],
      "execution_count": 2,
      "outputs": [
        {
          "output_type": "execute_result",
          "data": {
            "text/plain": [
              "array([0, 1, 2])"
            ]
          },
          "metadata": {
            "tags": []
          },
          "execution_count": 2
        }
      ]
    },
    {
      "cell_type": "code",
      "metadata": {
        "colab": {
          "base_uri": "https://localhost:8080/"
        },
        "id": "sLWbk0cZco-y",
        "outputId": "2d8ce64d-c984-4cca-f25e-7907d34a9753"
      },
      "source": [
        "quantidade"
      ],
      "execution_count": 3,
      "outputs": [
        {
          "output_type": "execute_result",
          "data": {
            "text/plain": [
              "array([50, 50, 50])"
            ]
          },
          "metadata": {
            "tags": []
          },
          "execution_count": 3
        }
      ]
    },
    {
      "cell_type": "markdown",
      "metadata": {
        "id": "5kO-YPN0cyF-"
      },
      "source": [
        "Agrupamento com K-Means utilizando 3 clusteres de acordo com a base de dados"
      ]
    },
    {
      "cell_type": "code",
      "metadata": {
        "colab": {
          "base_uri": "https://localhost:8080/"
        },
        "id": "hOt0zK1vctX7",
        "outputId": "a6011261-fb74-4487-ba35-7a8b4da58485"
      },
      "source": [
        "cluster = KMeans(n_clusters= 3)\n",
        "cluster.fit(iris.data)"
      ],
      "execution_count": 5,
      "outputs": [
        {
          "output_type": "execute_result",
          "data": {
            "text/plain": [
              "KMeans(algorithm='auto', copy_x=True, init='k-means++', max_iter=300,\n",
              "       n_clusters=3, n_init=10, n_jobs=None, precompute_distances='auto',\n",
              "       random_state=None, tol=0.0001, verbose=0)"
            ]
          },
          "metadata": {
            "tags": []
          },
          "execution_count": 5
        }
      ]
    },
    {
      "cell_type": "markdown",
      "metadata": {
        "id": "99ARY-dYdDj4"
      },
      "source": [
        "Visualização dos tres centroids\n"
      ]
    },
    {
      "cell_type": "code",
      "metadata": {
        "colab": {
          "base_uri": "https://localhost:8080/"
        },
        "id": "r5jNDt2fc_rR",
        "outputId": "4b6490e3-8b0f-4576-f731-228bac15399d"
      },
      "source": [
        "centroids = cluster.cluster_centers_\n",
        "centroids"
      ],
      "execution_count": 6,
      "outputs": [
        {
          "output_type": "execute_result",
          "data": {
            "text/plain": [
              "array([[6.85      , 3.07368421, 5.74210526, 2.07105263],\n",
              "       [5.006     , 3.428     , 1.462     , 0.246     ],\n",
              "       [5.9016129 , 2.7483871 , 4.39354839, 1.43387097]])"
            ]
          },
          "metadata": {
            "tags": []
          },
          "execution_count": 6
        }
      ]
    },
    {
      "cell_type": "markdown",
      "metadata": {
        "id": "_tLlClacdfLz"
      },
      "source": [
        "Visualização dos grupos que cada registro foi associado"
      ]
    },
    {
      "cell_type": "code",
      "metadata": {
        "id": "-oN7uaHLdTkk"
      },
      "source": [
        "previsoes = cluster.labels_\n",
        "#previsoes"
      ],
      "execution_count": 11,
      "outputs": []
    },
    {
      "cell_type": "markdown",
      "metadata": {
        "id": "VNMlJAynd0nI"
      },
      "source": [
        "Contagem dos registros por classe"
      ]
    },
    {
      "cell_type": "code",
      "metadata": {
        "colab": {
          "base_uri": "https://localhost:8080/"
        },
        "id": "FwlZwfzEdsIU",
        "outputId": "ffb07b4f-485e-48f7-9e50-93bb933194db"
      },
      "source": [
        "unicos2, quantidade2 = np.unique(previsoes, return_counts=True)\n",
        "print(unicos2)\n",
        "print(quantidade2)"
      ],
      "execution_count": 8,
      "outputs": [
        {
          "output_type": "stream",
          "text": [
            "[0 1 2]\n",
            "[38 50 62]\n"
          ],
          "name": "stdout"
        }
      ]
    },
    {
      "cell_type": "markdown",
      "metadata": {
        "id": "LLxwFbP-eUo8"
      },
      "source": [
        "Gerando a matriz de contingencia para comparar os grupos com a base de dados"
      ]
    },
    {
      "cell_type": "code",
      "metadata": {
        "colab": {
          "base_uri": "https://localhost:8080/"
        },
        "id": "AEtB-PnOeRzt",
        "outputId": "685fd45f-e19e-4c42-d122-52684e9496ec"
      },
      "source": [
        "resultados = confusion_matrix(iris.target, previsoes)\n",
        "resultados"
      ],
      "execution_count": 9,
      "outputs": [
        {
          "output_type": "execute_result",
          "data": {
            "text/plain": [
              "array([[ 0, 50,  0],\n",
              "       [ 2,  0, 48],\n",
              "       [36,  0, 14]])"
            ]
          },
          "metadata": {
            "tags": []
          },
          "execution_count": 9
        }
      ]
    },
    {
      "cell_type": "markdown",
      "metadata": {
        "id": "0wrzZvSWfpYa"
      },
      "source": [
        "Geração do gráfico com os clusters gerados, considerando para uma previsao 0, 1 ou 2\n",
        "\n",
        "Usamos somente as colunas 0 e 1 da base de dados original para termos 2 dimensoes."
      ]
    },
    {
      "cell_type": "code",
      "metadata": {
        "colab": {
          "base_uri": "https://localhost:8080/",
          "height": 268
        },
        "id": "gK-0SH_geh4m",
        "outputId": "24ef8b4a-9476-46b2-9017-6e3366a6ea61"
      },
      "source": [
        "plt.scatter(iris.data[previsoes == 0, 0], iris.data[previsoes == 0, 1], c = 'green', label = 'setosa')\n",
        "plt.scatter(iris.data[previsoes == 1, 0], iris.data[previsoes == 1, 1], c = 'red', label = 'versicolor')\n",
        "plt.scatter(iris.data[previsoes == 2, 0], iris.data[previsoes == 2, 1], c = 'blue', label = 'virginica')\n",
        "plt.legend()\n",
        "plt.show()"
      ],
      "execution_count": 10,
      "outputs": [
        {
          "output_type": "display_data",
          "data": {
            "image/png": "[encoded data removed]",
            "text/plain": [
              "<Figure size 432x288 with 1 Axes>"
            ]
          },
          "metadata": {
            "tags": [],
            "needs_background": "light"
          }
        }
      ]
    },
    {
      "cell_type": "markdown",
      "metadata": {
        "id": "nfklEdqEiP9D"
      },
      "source": [
        "#<font color=\"orange\">C-Means</font>"
      ]
    },
    {
      "cell_type": "code",
      "metadata": {
        "colab": {
          "base_uri": "https://localhost:8080/"
        },
        "id": "dB1_zy0Sicni",
        "outputId": "8713f119-37f0-47ff-fe8f-21a3e073b916"
      },
      "source": [
        "!pip install scikit-fuzzy"
      ],
      "execution_count": 12,
      "outputs": [
        {
          "output_type": "stream",
          "text": [
            "Collecting scikit-fuzzy\n",
            "\u001b[?25l  Downloading https://files.pythonhosted.org/packages/6c/f0/5eb5dbe0fd8dfe7d4651a8f4e591a196623a22b9e5339101e559695b4f6c/scikit-fuzzy-0.4.2.tar.gz (993kB)\n",
            "\u001b[K     |████████████████████████████████| 1.0MB 4.1MB/s \n",
            "\u001b[?25hRequirement already satisfied: numpy>=1.6.0 in /usr/local/lib/python3.7/dist-packages (from scikit-fuzzy) (1.19.5)\n",
            "Requirement already satisfied: scipy>=0.9.0 in /usr/local/lib/python3.7/dist-packages (from scikit-fuzzy) (1.4.1)\n",
            "Requirement already satisfied: networkx>=1.9.0 in /usr/local/lib/python3.7/dist-packages (from scikit-fuzzy) (2.5.1)\n",
            "Requirement already satisfied: decorator<5,>=4.3 in /usr/local/lib/python3.7/dist-packages (from networkx>=1.9.0->scikit-fuzzy) (4.4.2)\n",
            "Building wheels for collected packages: scikit-fuzzy\n",
            "  Building wheel for scikit-fuzzy (setup.py) ... \u001b[?25l\u001b[?25hdone\n",
            "  Created wheel for scikit-fuzzy: filename=scikit_fuzzy-0.4.2-cp37-none-any.whl size=894069 sha256=14916374604a9123f81a2424a2a2b18ccdc80f472f791b85811f6384f27dfa17\n",
            "  Stored in directory: /root/.cache/pip/wheels/b9/4e/77/da79b16f64ef1738d95486e2731eea09d73e90a72465096600\n",
            "Successfully built scikit-fuzzy\n",
            "Installing collected packages: scikit-fuzzy\n",
            "Successfully installed scikit-fuzzy-0.4.2\n"
          ],
          "name": "stdout"
        }
      ]
    },
    {
      "cell_type": "code",
      "metadata": {
        "id": "bUh30ax8g0kK"
      },
      "source": [
        "# Imports\n",
        "import skfuzzy\n"
      ],
      "execution_count": 13,
      "outputs": []
    },
    {
      "cell_type": "markdown",
      "metadata": {
        "id": "fP-G7WfNjDuj"
      },
      "source": [
        "Aplicação do algoritmo definindo tres clusters -> (c = 3) e passando a matriz transposta (iris.data.T). Os outros parametros são obrigatorios e são os default indicados na decomposição."
      ]
    },
    {
      "cell_type": "code",
      "metadata": {
        "id": "XYFd2LvijAgk"
      },
      "source": [
        "r = skfuzzy.cmeans(data= iris.data.T, c = 3, m= 2, error= 0.005, maxiter= 1000, init= None)"
      ],
      "execution_count": 14,
      "outputs": []
    },
    {
      "cell_type": "markdown",
      "metadata": {
        "id": "uTs4Ges5kCoL"
      },
      "source": [
        "Obtendo as porcentagens de um registro pertencer a um cluster, que esta na posição 1 da matriz retornada"
      ]
    },
    {
      "cell_type": "code",
      "metadata": {
        "id": "6rlRZ0zWkBHO"
      },
      "source": [
        "previsoes_porcentagem = r[1]"
      ],
      "execution_count": 15,
      "outputs": []
    },
    {
      "cell_type": "markdown",
      "metadata": {
        "id": "IcZDUKlskgKl"
      },
      "source": [
        "Visualização da probabilidade de um registro pertencer a cada um dos clusters -> (o somatorio é 1.0 que indica 100%)"
      ]
    },
    {
      "cell_type": "code",
      "metadata": {
        "colab": {
          "base_uri": "https://localhost:8080/"
        },
        "id": "NzCpKBlfkdUm",
        "outputId": "e089fe4e-a14f-4740-b968-05981b5ba534"
      },
      "source": [
        "for x in range(150):\n",
        "  print(previsoes_porcentagem[0][x], previsoes_porcentagem[1][x], previsoes_porcentagem[2][x])"
      ],
      "execution_count": 16,
      "outputs": [
        {
          "output_type": "stream",
          "text": [
            "0.001071939546019324 0.9966236208636118 0.0023044395903688026\n",
            "0.0075010511345808524 0.9758401600646976 0.016658788800721577\n",
            "0.006416588633986089 0.9798178481613912 0.013765563204622659\n",
            "0.01011160354490806 0.9674110429446082 0.022477353510483848\n",
            "0.001767901458355145 0.9944700492174265 0.003762049324218209\n",
            "0.020626779004873027 0.9345475878584854 0.044825633136641535\n",
            "0.0065066309941700625 0.979483279232074 0.014010089773755924\n",
            "0.00014126250805762146 0.9995470375919364 0.00031169990000603235\n",
            "0.021910127991635952 0.9303485421412446 0.047741329867119424\n",
            "0.0053439149226137015 0.9827136190401434 0.011942466037242734\n",
            "0.010203963338619223 0.9680307356629255 0.02176530099845518\n",
            "0.0024322600579498007 0.9921325275397602 0.00543521240228986\n",
            "0.009180667665519227 0.9706261042679201 0.020193228066560764\n",
            "0.025243293677491268 0.9229415032685236 0.051815203053985\n",
            "0.03764089648756075 0.8897283374501942 0.07263076606224499\n",
            "0.05431977355979876 0.8413017789246244 0.10437844751557683\n",
            "0.017500138247997257 0.9469089067516868 0.035590955000316025\n",
            "0.0010588251476954928 0.996652349454256 0.002288825398048532\n",
            "0.030318033265252217 0.9040980982794822 0.06558386845526545\n",
            "0.0066553867547548985 0.9791822022957308 0.014162410949514067\n",
            "0.009544515885151737 0.9685875650197044 0.02186791909514397\n",
            "0.0047953082646898385 0.9848272560069576 0.0103774357283525\n",
            "0.013835735798619592 0.9586467740190093 0.027517490182371197\n",
            "0.006115211295575863 0.9794125682439732 0.014472220460451034\n",
            "0.009843158543331785 0.9668986797275175 0.02325816172915068\n",
            "0.007977460996286316 0.9735517339409796 0.018470805062734207\n",
            "0.0015744875652764355 0.9948409428355288 0.003584569599194607\n",
            "0.00208732218599783 0.9933458231932197 0.004566854620782542\n",
            "0.001996409241223001 0.9936740744597826 0.004329516298994344\n",
            "0.006285485638357012 0.9795045466457445 0.014209967715898622\n",
            "0.006476652880168904 0.9787148800894419 0.014808467030389247\n",
            "0.007942632666508555 0.9743520048207504 0.017705362512741102\n",
            "0.020339284835538516 0.9385020201771579 0.04115869498730358\n",
            "0.03235638320572004 0.9041428266979692 0.06350079009631081\n",
            "0.004596208645365285 0.9850565523334475 0.010347239021187307\n",
            "0.004806370216896157 0.9849887148198057 0.010204914963298254\n",
            "0.011567238474608055 0.9641723614302519 0.024260400095140085\n",
            "0.0029268109976954802 0.9908894902539862 0.006183698748318258\n",
            "0.019238856964885573 0.9396588158343894 0.04110232720072512\n",
            "0.0005334516762446058 0.9982882139509051 0.0011783343728503236\n",
            "0.0016882965486734525 0.9947274697990918 0.0035842336522347697\n",
            "0.047009057618330845 0.850673893498183 0.1023170488834862\n",
            "0.015213184081185605 0.952596397417207 0.03219041850160739\n",
            "0.006332489638160639 0.9792761033179871 0.014391407043852356\n",
            "0.016607431110506637 0.9452440679950632 0.03814850089443015\n",
            "0.008635054066106226 0.9721319863462394 0.019232959587654447\n",
            "0.007367081097390675 0.976784620784906 0.015848298117703368\n",
            "0.008129609305762297 0.9742094434176256 0.01766094727661211\n",
            "0.007261543578606682 0.977212511296406 0.015525945124987253\n",
            "0.0009195274940606038 0.9970715380660858 0.0020089344398534813\n",
            "0.5016611443573012 0.04457371908523219 0.4537651365574666\n",
            "0.20732092733994018 0.029194304615811413 0.7634847680442484\n",
            "0.6005963633596165 0.031255576257789214 0.36814806038259423\n",
            "0.08035202272976216 0.049253571290844025 0.8703944059793938\n",
            "0.21776500468976054 0.02413977153576438 0.758095223774475\n",
            "0.020470923290853555 0.005735614987499354 0.9737934617216472\n",
            "0.29790228293332494 0.02981961311256352 0.6722781039541115\n",
            "0.1322873252029132 0.28495829292640384 0.582754381870683\n",
            "0.24827188880792736 0.03125812489694017 0.7204699862951325\n",
            "0.09461889288788945 0.07463710212914945 0.8307440049829611\n",
            "0.14503302093215775 0.21824079154795156 0.6367261875198906\n",
            "0.0287515077271288 0.009180059088549701 0.9620684331843214\n",
            "0.10107219550180391 0.05555807072647648 0.8433697337717196\n",
            "0.08867439232197392 0.012154911406058354 0.8991706962719677\n",
            "0.09210380638635617 0.09149431596948052 0.8164018776441633\n",
            "0.2688401301766835 0.04173972674313076 0.6894201430801858\n",
            "0.05275141375326732 0.014157588765992223 0.9330909974807405\n",
            "0.04827060689363672 0.025817275347194576 0.9259121177591687\n",
            "0.13764146885826165 0.0271574061642853 0.835201124977453\n",
            "0.07065887036694829 0.0514349739643193 0.8779061556687324\n",
            "0.25136298142932473 0.027642739223372532 0.7209942793473028\n",
            "0.04619230996236857 0.019458534477084052 0.9343491555605474\n",
            "0.2712796347181093 0.02399455135443646 0.7047258139274543\n",
            "0.0836260159956639 0.013964662137906975 0.9024093218664291\n",
            "0.10139609605308296 0.022927307759837246 0.8756765961870798\n",
            "0.21169545536412337 0.033966841974617086 0.7543377026612595\n",
            "0.4433946730750473 0.03361023146679239 0.5229950954581603\n",
            "0.6732933633706701 0.021165364387281498 0.3055412722420483\n",
            "0.026393234473939625 0.004967972448292963 0.9686387930777673\n",
            "0.1045839733232989 0.1281369294939612 0.7672790971827398\n",
            "0.08979041901336755 0.0776618447933981 0.8325477361932343\n",
            "0.10065544320687445 0.10361458044809241 0.7957299763450331\n",
            "0.050193610457435325 0.03088651323312778 0.9189198763094368\n",
            "0.3205043863403746 0.023989115800365713 0.6555064978592597\n",
            "0.08249939566040913 0.026369625813262198 0.8911309785263287\n",
            "0.1710540990895514 0.03216914612229105 0.7967767547881575\n",
            "0.41183278585139715 0.033462187614792756 0.55470502653381\n",
            "0.11563083064560908 0.026871935322403763 0.8574972340319872\n",
            "0.046903020399817696 0.02402690182112819 0.929070077779054\n",
            "0.062268438229021034 0.03807932595589713 0.8996522358150819\n",
            "0.04916023941278106 0.01958556576441722 0.9312541948228017\n",
            "0.07307385562965565 0.011656098207902407 0.915270046162442\n",
            "0.04167559223111875 0.022437211613920118 0.9358871961549611\n",
            "0.13271490618412488 0.26871662431842813 0.5985684694974469\n",
            "0.028337781337369528 0.012622403568290448 0.95903981509434\n",
            "0.037607927134242096 0.0167364985333505 0.9456555743324074\n",
            "0.022932389939945955 0.009533948254413359 0.9675336618056406\n",
            "0.044833327894966066 0.011420676262712433 0.9437459958423214\n",
            "0.12450476891756848 0.35511858271545443 0.5203766483669771\n",
            "0.02663252691388716 0.012628266986413565 0.9607392060996992\n",
            "0.8599382259277647 0.019366581114580696 0.12069519295765464\n",
            "0.35580222585658183 0.029307861198876014 0.6148899129445421\n",
            "0.9556440087673961 0.006097703490936254 0.03825828774166755\n",
            "0.8460098208329838 0.012500315852023549 0.14148986331499264\n",
            "0.9576552327267004 0.004752915966079069 0.03759185130722047\n",
            "0.8117495010226783 0.03549840156014176 0.15275209741717988\n",
            "0.16707827370076586 0.07293332006850577 0.7599884062307284\n",
            "0.8628598315186696 0.021926957007862735 0.1152132114734677\n",
            "0.8688301895149532 0.01398734591149755 0.1171824645735493\n",
            "0.8608736630774423 0.02445078022848906 0.11467555669406858\n",
            "0.7740534079381917 0.016734153532675246 0.20921243852913307\n",
            "0.7618582698205373 0.01572718261491681 0.22241454756454582\n",
            "0.9888946286574706 0.001159336542015861 0.00994603480051346\n",
            "0.30617465855832215 0.03437571257948813 0.6594496288621897\n",
            "0.501189679982492 0.03836290717237287 0.4604474128451352\n",
            "0.8502756468476418 0.014039444995842655 0.13568490815651557\n",
            "0.9136378131151313 0.00713506989709978 0.07922711698776899\n",
            "0.7634936313054558 0.050630054173165046 0.1858763145213793\n",
            "0.7574752683642113 0.04921964274207197 0.19330508889371673\n",
            "0.2575235865901947 0.032201500467329953 0.7102749129424754\n",
            "0.9703918954918511 0.0038411866741800255 0.025766917833968752\n",
            "0.25985124989794056 0.03365593364106856 0.7064928164609909\n",
            "0.7831034344311253 0.04200793479701139 0.1748886307718633\n",
            "0.38240876291939996 0.022812667582414587 0.5947785694981855\n",
            "0.9753349850582416 0.0029170271168278746 0.021747987824930582\n",
            "0.9118185929262337 0.012931681440191238 0.07524972563357513\n",
            "0.2721128877599348 0.021005074756601655 0.7068820374834635\n",
            "0.3309271229306844 0.02310992893158676 0.6459629481377288\n",
            "0.9089448057947417 0.00833832887043372 0.08271686533482454\n",
            "0.8907947064689077 0.014457599715237378 0.09474769381585511\n",
            "0.8726677169220866 0.019813407892193702 0.10751887518571986\n",
            "0.7600130366577531 0.050943302131593975 0.1890436612106529\n",
            "0.9064717460414712 0.008939156159885043 0.08458909779864392\n",
            "0.4373630181569522 0.023394514882399062 0.5392424669606486\n",
            "0.5766513817194153 0.031174498726421248 0.3921741195541633\n",
            "0.8394464016758457 0.028697256816845384 0.1318563415073089\n",
            "0.8542647217497885 0.01721810698301464 0.12851717126719694\n",
            "0.8806179866365762 0.009756147468663566 0.10962586589476021\n",
            "0.22910485105268358 0.021754641088189308 0.7491405078591271\n",
            "0.9676442889667395 0.00348225512681672 0.028873455906443864\n",
            "0.9572670044155058 0.005078842565019613 0.03765415301947452\n",
            "0.8553976202258324 0.015386042653716629 0.1292163371204508\n",
            "0.35580222585658183 0.029307861198876014 0.6148899129445421\n",
            "0.9609122974028759 0.0052674312759379725 0.03382027132118629\n",
            "0.9271001599663444 0.009710783874738158 0.06318905615891739\n",
            "0.8826950469073054 0.011241087526129841 0.10606386556656487\n",
            "0.46752827705185196 0.02579626220275314 0.5066754607453949\n",
            "0.8321393056105014 0.01208043490288908 0.15578025948660953\n",
            "0.7897630931091821 0.021562701345454318 0.1886742055453635\n",
            "0.3921243693479268 0.026928810689272803 0.5809468199628004\n"
          ],
          "name": "stdout"
        }
      ]
    },
    {
      "cell_type": "markdown",
      "metadata": {
        "id": "aQNGM1Npk-4l"
      },
      "source": [
        "Geração de Matriz de Contingencia para comparação com as classes originais da base de dados"
      ]
    },
    {
      "cell_type": "code",
      "metadata": {
        "colab": {
          "base_uri": "https://localhost:8080/"
        },
        "id": "7wZoq-a8k7IF",
        "outputId": "796524f1-2947-4892-956a-066b9d35711e"
      },
      "source": [
        "previsoes_cmeans = previsoes_porcentagem.argmax(axis= 0)\n",
        "resultados_cmeans = confusion_matrix(iris.target, previsoes_cmeans)\n",
        "resultados_cmeans"
      ],
      "execution_count": 18,
      "outputs": [
        {
          "output_type": "execute_result",
          "data": {
            "text/plain": [
              "array([[ 0, 50,  0],\n",
              "       [ 3,  0, 47],\n",
              "       [37,  0, 13]])"
            ]
          },
          "metadata": {
            "tags": []
          },
          "execution_count": 18
        }
      ]
    },
    {
      "cell_type": "code",
      "metadata": {
        "colab": {
          "base_uri": "https://localhost:8080/",
          "height": 268
        },
        "id": "lhq3trxClzP4",
        "outputId": "f120ad0b-c490-45b1-8c9d-d2678774d4ab"
      },
      "source": [
        "plt.scatter(iris.data[previsoes_cmeans == 0, 0], iris.data[previsoes_cmeans == 0, 1], c = 'orange', label = 'setosa')\n",
        "plt.scatter(iris.data[previsoes_cmeans == 1, 0], iris.data[previsoes_cmeans == 1, 1], c = 'red', label = 'versicolor')\n",
        "plt.scatter(iris.data[previsoes_cmeans == 2, 0], iris.data[previsoes_cmeans == 2, 1], c = 'yellow', label = 'virginica')\n",
        "plt.legend()\n",
        "plt.show()"
      ],
      "execution_count": 20,
      "outputs": [
        {
          "output_type": "display_data",
          "data": {
            "image/png": "[encoded data removed]",
            "text/plain": [
              "<Figure size 432x288 with 1 Axes>"
            ]
          },
          "metadata": {
            "tags": [],
            "needs_background": "light"
          }
        }
      ]
    },
    {
      "cell_type": "markdown",
      "metadata": {
        "id": "lBysUrsUoviN"
      },
      "source": [
        "#<font color=\"brown\">K-Medoids</font>"
      ]
    },
    {
      "cell_type": "code",
      "metadata": {
        "colab": {
          "base_uri": "https://localhost:8080/"
        },
        "id": "WnJQClNspUNJ",
        "outputId": "5df1b0aa-804c-4549-e40c-239e228dcd31"
      },
      "source": [
        "!pip install pyclustering"
      ],
      "execution_count": 21,
      "outputs": [
        {
          "output_type": "stream",
          "text": [
            "Collecting pyclustering\n",
            "\u001b[?25l  Downloading https://files.pythonhosted.org/packages/4b/cf/6c1183d0c1e76df398d0808f78cabaedd87a1ca7548b9b03d51620ff55eb/pyclustering-0.10.1.2.tar.gz (2.6MB)\n",
            "\u001b[K     |████████████████████████████████| 2.6MB 5.6MB/s \n",
            "\u001b[?25hRequirement already satisfied: scipy>=1.1.0 in /usr/local/lib/python3.7/dist-packages (from pyclustering) (1.4.1)\n",
            "Requirement already satisfied: matplotlib>=3.0.0 in /usr/local/lib/python3.7/dist-packages (from pyclustering) (3.2.2)\n",
            "Requirement already satisfied: numpy>=1.15.2 in /usr/local/lib/python3.7/dist-packages (from pyclustering) (1.19.5)\n",
            "Requirement already satisfied: Pillow>=5.2.0 in /usr/local/lib/python3.7/dist-packages (from pyclustering) (7.1.2)\n",
            "Requirement already satisfied: kiwisolver>=1.0.1 in /usr/local/lib/python3.7/dist-packages (from matplotlib>=3.0.0->pyclustering) (1.3.1)\n",
            "Requirement already satisfied: pyparsing!=2.0.4,!=2.1.2,!=2.1.6,>=2.0.1 in /usr/local/lib/python3.7/dist-packages (from matplotlib>=3.0.0->pyclustering) (2.4.7)\n",
            "Requirement already satisfied: cycler>=0.10 in /usr/local/lib/python3.7/dist-packages (from matplotlib>=3.0.0->pyclustering) (0.10.0)\n",
            "Requirement already satisfied: python-dateutil>=2.1 in /usr/local/lib/python3.7/dist-packages (from matplotlib>=3.0.0->pyclustering) (2.8.1)\n",
            "Requirement already satisfied: six in /usr/local/lib/python3.7/dist-packages (from cycler>=0.10->matplotlib>=3.0.0->pyclustering) (1.15.0)\n",
            "Building wheels for collected packages: pyclustering\n",
            "  Building wheel for pyclustering (setup.py) ... \u001b[?25l\u001b[?25hdone\n",
            "  Created wheel for pyclustering: filename=pyclustering-0.10.1.2-cp37-none-any.whl size=2395105 sha256=8358e43d5d8efd7fd6d929362bdf7ae8656fd48e713a0054fe625b4352fc77ee\n",
            "  Stored in directory: /root/.cache/pip/wheels/d4/98/57/2f53b94ccf47805e95e189e8a18f58a51ff61d67955b79c60d\n",
            "Successfully built pyclustering\n",
            "Installing collected packages: pyclustering\n",
            "Successfully installed pyclustering-0.10.1.2\n"
          ],
          "name": "stdout"
        }
      ]
    },
    {
      "cell_type": "code",
      "metadata": {
        "id": "7npKLGEzmZFs"
      },
      "source": [
        "# Imports\n",
        "from sklearn import datasets\n",
        "from sklearn.metrics import confusion_matrix\n",
        "import numpy as np\n",
        "from pyclustering.cluster.kmedoids import kmedoids\n",
        "from pyclustering.cluster import cluster_visualizer\n"
      ],
      "execution_count": 22,
      "outputs": []
    },
    {
      "cell_type": "code",
      "metadata": {
        "id": "awRse8EzqFIu"
      },
      "source": [
        "# carregando a base de dados\n",
        "iris = datasets.load_iris()"
      ],
      "execution_count": 23,
      "outputs": []
    },
    {
      "cell_type": "markdown",
      "metadata": {
        "id": "kAFBM51Rp3-7"
      },
      "source": [
        "Configuração dos parametros do k-medoids, utilizando somente as duas primeiras colunas da base de dados por causa da visualização apenas 3, 12, e 20 sao indices aleatorios de registros da base de dados (inicialização)"
      ]
    },
    {
      "cell_type": "code",
      "metadata": {
        "colab": {
          "base_uri": "https://localhost:8080/"
        },
        "id": "4P2wTE67p2Hz",
        "outputId": "3cb7fe45-54de-46d8-9084-1825db8a336b"
      },
      "source": [
        "cluster = kmedoids(iris.data[:, 0:2], [3, 12, 20])\n",
        "# Visualização dos pontos escolhidos (3, 12 e 20)\n",
        "cluster.get_medoids()"
      ],
      "execution_count": 24,
      "outputs": [
        {
          "output_type": "execute_result",
          "data": {
            "text/plain": [
              "[3, 12, 20]"
            ]
          },
          "metadata": {
            "tags": []
          },
          "execution_count": 24
        }
      ]
    },
    {
      "cell_type": "markdown",
      "metadata": {
        "id": "ciMrwDR6rRsj"
      },
      "source": [
        "Aplicação do algoritmo para o agrupamento, obtenção da previsão (grupo de cada registro) e visualização dos medoides"
      ]
    },
    {
      "cell_type": "code",
      "metadata": {
        "id": "4wqvIc5srPJc"
      },
      "source": [
        "cluster.process()\n",
        "previsoes = cluster.get_clusters()\n",
        "medoides = cluster.get_medoids()\n",
        "# lista de 3 elementos, com os indices dos registros do cluster\n",
        "#previsoes"
      ],
      "execution_count": 26,
      "outputs": []
    },
    {
      "cell_type": "markdown",
      "metadata": {
        "id": "ThjoVuGMsBFw"
      },
      "source": [
        "Visualização do agrupamento"
      ]
    },
    {
      "cell_type": "code",
      "metadata": {
        "colab": {
          "base_uri": "https://localhost:8080/",
          "height": 487
        },
        "id": "bSicv_jKrzKE",
        "outputId": "804e03d1-c01b-46bc-82b8-f687e33226c1"
      },
      "source": [
        "v = cluster_visualizer()\n",
        "v.append_clusters(previsoes, iris.data[:,0:2])\n",
        "v.append_cluster(medoides, data = iris.data[:,0:2], marker = '*', markersize = 20)\n",
        "v.show()"
      ],
      "execution_count": 34,
      "outputs": [
        {
          "output_type": "display_data",
          "data": {
            "image/png": "[encoded data removed]",
            "text/plain": [
              "<Figure size 432x288 with 1 Axes>"
            ]
          },
          "metadata": {
            "tags": [],
            "needs_background": "light"
          }
        },
        {
          "output_type": "execute_result",
          "data": {
            "image/png": "[encoded data removed]",
            "text/plain": [
              "<Figure size 432x288 with 1 Axes>"
            ]
          },
          "metadata": {
            "tags": []
          },
          "execution_count": 34
        }
      ]
    },
    {
      "cell_type": "markdown",
      "metadata": {
        "id": "YaLDrOQzs6l9"
      },
      "source": [
        "Codigo para criar duas listas, uma com os grupos reais da base de dados e outra com os valores dos grupos, utilizado posteriormente para visualização da matriz de contingencia."
      ]
    },
    {
      "cell_type": "code",
      "metadata": {
        "id": "h5qq9hI5srVM"
      },
      "source": [
        "lista_previsoes = []\n",
        "lista_real = []\n",
        "for i in range(len(previsoes)):\n",
        "     for j in range(len(previsoes[i])):\n",
        "        lista_previsoes.append(i)\n",
        "        lista_real.append(iris.target[previsoes[i][j]])"
      ],
      "execution_count": 32,
      "outputs": []
    },
    {
      "cell_type": "markdown",
      "metadata": {
        "id": "d5T14K-2u3t1"
      },
      "source": [
        "Geração da matriz de contingência, comparando os grupos reais com os grupos previstos"
      ]
    },
    {
      "cell_type": "code",
      "metadata": {
        "colab": {
          "base_uri": "https://localhost:8080/"
        },
        "id": "LiM_bumdtcB4",
        "outputId": "2330e941-37f5-4d55-efe5-1b2188f6da7e"
      },
      "source": [
        "lista_previsoes = np.asarray(lista_previsoes)\n",
        "lista_real = np.asarray(lista_real)\n",
        "resultados = confusion_matrix(lista_real, lista_previsoes)\n",
        "resultados"
      ],
      "execution_count": 33,
      "outputs": [
        {
          "output_type": "execute_result",
          "data": {
            "text/plain": [
              "array([[ 0,  0, 50],\n",
              "       [12, 38,  0],\n",
              "       [35, 14,  1]])"
            ]
          },
          "metadata": {
            "tags": []
          },
          "execution_count": 33
        }
      ]
    },
    {
      "cell_type": "code",
      "metadata": {
        "id": "7TJ4HgAsu86G"
      },
      "source": [
        ""
      ],
      "execution_count": null,
      "outputs": []
    }
  ]
}