{
  "nbformat": 4,
  "nbformat_minor": 0,
  "metadata": {
    "colab": {
      "name": "Machine-Learning-R.ipynb",
      "provenance": [],
      "authorship_tag": "ABX9TyOo1du2GHxRIFI+kdUKK51N",
      "include_colab_link": true
    },
    "kernelspec": {
      "name": "ir",
      "display_name": "R"
    },
    "language_info": {
      "name": "R"
    }
  },
  "cells": [
    {
      "cell_type": "markdown",
      "metadata": {
        "id": "view-in-github",
        "colab_type": "text"
      },
      "source": [
        "<a href=\"https://colab.research.google.com/github/joaoSouza2121/machine-learning/blob/main/Machine_Learning_R.ipynb\" target=\"_parent\"><img src=\"https://colab.research.google.com/assets/colab-badge.svg\" alt=\"Open In Colab\"/></a>"
      ]
    },
    {
      "cell_type": "markdown",
      "metadata": {
        "id": "TnOiADg9fnl5"
      },
      "source": [
        "#<font color=\"blue\">Machine Learning</font>\n",
        "\n",
        "<font color=\"DarkRed\">Estudo de Machine Learning em Linguagem R</font>\n",
        "\n",
        "#<font color=\"orange\">Algoritmo - Naive Bayes</font>"
      ]
    },
    {
      "cell_type": "code",
      "metadata": {
        "colab": {
          "base_uri": "https://localhost:8080/"
        },
        "id": "GlMtE2Y4JByf",
        "outputId": "bf74b5f7-d43d-4088-ef03-ebd8b1516789"
      },
      "source": [
        "# Instalando e Carregando bibliotecas\n",
        "install.packages(\"forecast\")\n",
        "library(rpart)\n",
        "library(forecast)"
      ],
      "execution_count": 4,
      "outputs": [
        {
          "output_type": "stream",
          "text": [
            "Installing package into ‘/usr/local/lib/R/site-library’\n",
            "(as ‘lib’ is unspecified)\n",
            "\n",
            "also installing the dependencies ‘xts’, ‘TTR’, ‘quadprog’, ‘quantmod’, ‘fracdiff’, ‘lmtest’, ‘timeDate’, ‘tseries’, ‘urca’, ‘zoo’, ‘RcppArmadillo’\n",
            "\n",
            "\n",
            "Registered S3 method overwritten by 'quantmod':\n",
            "  method            from\n",
            "  as.zoo.data.frame zoo \n",
            "\n"
          ],
          "name": "stderr"
        }
      ]
    },
    {
      "cell_type": "code",
      "metadata": {
        "colab": {
          "base_uri": "https://localhost:8080/",
          "height": 34
        },
        "id": "pnQbPBQoxK5U",
        "outputId": "872e65c9-5cc5-45e1-e5ab-3a406238722a"
      },
      "source": [
        "# criando o modelo usando o conjunto de dados Iris\n",
        "iris_part <- iris\n",
        "colnames(iris_part)"
      ],
      "execution_count": 6,
      "outputs": [
        {
          "output_type": "display_data",
          "data": {
            "text/plain": [
              "[1] \"Sepal.Length\" \"Sepal.Width\"  \"Petal.Length\" \"Petal.Width\"  \"Species\"     "
            ],
            "text/latex": "\\begin{enumerate*}\n\\item 'Sepal.Length'\n\\item 'Sepal.Width'\n\\item 'Petal.Length'\n\\item 'Petal.Width'\n\\item 'Species'\n\\end{enumerate*}\n",
            "text/markdown": "1. 'Sepal.Length'\n2. 'Sepal.Width'\n3. 'Petal.Length'\n4. 'Petal.Width'\n5. 'Species'\n\n\n",
            "text/html": [
              "<style>\n",
              ".list-inline {list-style: none; margin:0; padding: 0}\n",
              ".list-inline>li {display: inline-block}\n",
              ".list-inline>li:not(:last-child)::after {content: \"\\00b7\"; padding: 0 .5ex}\n",
              "</style>\n",
              "<ol class=list-inline><li>'Sepal.Length'</li><li>'Sepal.Width'</li><li>'Petal.Length'</li><li>'Petal.Width'</li><li>'Species'</li></ol>\n"
            ]
          },
          "metadata": {
            "tags": []
          }
        }
      ]
    },
    {
      "cell_type": "markdown",
      "metadata": {
        "id": "98eIBPV3Cfkl"
      },
      "source": [
        "#Arvore de Decisão para Regressão - rpart"
      ]
    },
    {
      "cell_type": "code",
      "metadata": {
        "colab": {
          "base_uri": "https://localhost:8080/"
        },
        "id": "VHaqc_OxzE7n",
        "outputId": "49d54f8e-07a9-4b1c-852e-257f129a81eb"
      },
      "source": [
        "# rpart -> cria uma arvore de decisão\n",
        "modelo = rpart(Sepal.Length ~ Sepal.Width + Petal.Length + Petal.Width + Species, data = iris_part)\n",
        "summary(modelo)"
      ],
      "execution_count": 8,
      "outputs": [
        {
          "output_type": "stream",
          "text": [
            "Call:\n",
            "rpart(formula = Sepal.Length ~ Sepal.Width + Petal.Length + Petal.Width + \n",
            "    Species, data = iris_part)\n",
            "  n= 150 \n",
            "\n",
            "          CP nsplit rel error    xerror       xstd\n",
            "1 0.61346237      0 1.0000000 1.0246464 0.10032833\n",
            "2 0.12180701      1 0.3865376 0.3967071 0.04903025\n",
            "3 0.05718872      2 0.2647306 0.2930780 0.03104241\n",
            "4 0.02980452      3 0.2075419 0.2419413 0.02957875\n",
            "5 0.02303165      4 0.1777374 0.2445557 0.02691471\n",
            "6 0.01698037      5 0.1547057 0.2417214 0.02735221\n",
            "7 0.01000000      6 0.1377254 0.2272045 0.02514230\n",
            "\n",
            "Variable importance\n",
            "Petal.Length  Petal.Width      Species  Sepal.Width \n",
            "          37           27           22           15 \n",
            "\n",
            "Node number 1: 150 observations,    complexity param=0.6134624\n",
            "  mean=5.843333, MSE=0.6811222 \n",
            "  left son=2 (73 obs) right son=3 (77 obs)\n",
            "  Primary splits:\n",
            "      Petal.Length < 4.25 to the left,  improve=0.61346240, (0 missing)\n",
            "      Petal.Width  < 1.15 to the left,  improve=0.58031680, (0 missing)\n",
            "      Species      splits as  LRR,      improve=0.51468520, (0 missing)\n",
            "      Sepal.Width  < 3.35 to the right, improve=0.07284853, (0 missing)\n",
            "  Surrogate splits:\n",
            "      Petal.Width < 1.35 to the left,  agree=0.940, adj=0.877, (0 split)\n",
            "      Species     splits as  LRR,      agree=0.847, adj=0.685, (0 split)\n",
            "      Sepal.Width < 3.35 to the right, agree=0.680, adj=0.342, (0 split)\n",
            "\n",
            "Node number 2: 73 observations,    complexity param=0.05718872\n",
            "  mean=5.179452, MSE=0.1799887 \n",
            "  left son=4 (53 obs) right son=5 (20 obs)\n",
            "  Primary splits:\n",
            "      Petal.Length < 3.4  to the left,  improve=0.4446911, (0 missing)\n",
            "      Species      splits as  LR-,      improve=0.3633756, (0 missing)\n",
            "      Petal.Width  < 0.8  to the left,  improve=0.3633756, (0 missing)\n",
            "      Sepal.Width  < 2.85 to the right, improve=0.1573443, (0 missing)\n",
            "  Surrogate splits:\n",
            "      Petal.Width < 0.8  to the left,  agree=0.959, adj=0.85, (0 split)\n",
            "      Species     splits as  LR-,      agree=0.959, adj=0.85, (0 split)\n",
            "      Sepal.Width < 2.95 to the right, agree=0.890, adj=0.60, (0 split)\n",
            "\n",
            "Node number 3: 77 observations,    complexity param=0.121807\n",
            "  mean=6.472727, MSE=0.3422432 \n",
            "  left son=6 (68 obs) right son=7 (9 obs)\n",
            "  Primary splits:\n",
            "      Petal.Length < 6.05 to the left,  improve=0.47224030, (0 missing)\n",
            "      Petal.Width  < 1.95 to the left,  improve=0.15491880, (0 missing)\n",
            "      Sepal.Width  < 2.75 to the left,  improve=0.09266865, (0 missing)\n",
            "      Species      splits as  -LR,      improve=0.07189928, (0 missing)\n",
            "  Surrogate splits:\n",
            "      Sepal.Width < 3.5  to the left,  agree=0.922, adj=0.333, (0 split)\n",
            "\n",
            "Node number 4: 53 observations,    complexity param=0.02303165\n",
            "  mean=5.00566, MSE=0.115251 \n",
            "  left son=8 (20 obs) right son=9 (33 obs)\n",
            "  Primary splits:\n",
            "      Sepal.Width  < 3.25 to the left,  improve=0.38523060, (0 missing)\n",
            "      Petal.Length < 1.45 to the left,  improve=0.08661382, (0 missing)\n",
            "      Petal.Width  < 0.35 to the left,  improve=0.08016696, (0 missing)\n",
            "  Surrogate splits:\n",
            "      Petal.Length < 2.45 to the right, agree=0.679, adj=0.15, (0 split)\n",
            "      Petal.Width  < 0.8  to the right, agree=0.679, adj=0.15, (0 split)\n",
            "      Species      splits as  RL-,      agree=0.679, adj=0.15, (0 split)\n",
            "\n",
            "Node number 5: 20 observations\n",
            "  mean=5.64, MSE=0.0594 \n",
            "\n",
            "Node number 6: 68 observations,    complexity param=0.02980452\n",
            "  mean=6.326471, MSE=0.198417 \n",
            "  left son=12 (43 obs) right son=13 (25 obs)\n",
            "  Primary splits:\n",
            "      Petal.Length < 5.15 to the left,  improve=0.22568920, (0 missing)\n",
            "      Sepal.Width  < 2.95 to the left,  improve=0.18113710, (0 missing)\n",
            "      Petal.Width  < 2.05 to the left,  improve=0.11970880, (0 missing)\n",
            "      Species      splits as  -LR,      improve=0.01499292, (0 missing)\n",
            "  Surrogate splits:\n",
            "      Petal.Width < 2.05 to the left,  agree=0.838, adj=0.56, (0 split)\n",
            "      Species     splits as  -LR,      agree=0.765, adj=0.36, (0 split)\n",
            "      Sepal.Width < 3.15 to the left,  agree=0.676, adj=0.12, (0 split)\n",
            "\n",
            "Node number 7: 9 observations\n",
            "  mean=7.577778, MSE=0.04617284 \n",
            "\n",
            "Node number 8: 20 observations\n",
            "  mean=4.735, MSE=0.054275 \n",
            "\n",
            "Node number 9: 33 observations\n",
            "  mean=5.169697, MSE=0.08089991 \n",
            "\n",
            "Node number 12: 43 observations,    complexity param=0.01698037\n",
            "  mean=6.165116, MSE=0.1920389 \n",
            "  left son=24 (33 obs) right son=25 (10 obs)\n",
            "  Primary splits:\n",
            "      Sepal.Width  < 3.05 to the left,  improve=0.21009020, (0 missing)\n",
            "      Species      splits as  -RL,      improve=0.07788079, (0 missing)\n",
            "      Petal.Length < 4.55 to the left,  improve=0.07459424, (0 missing)\n",
            "      Petal.Width  < 1.55 to the right, improve=0.06783151, (0 missing)\n",
            "\n",
            "Node number 13: 25 observations\n",
            "  mean=6.604, MSE=0.087584 \n",
            "\n",
            "Node number 24: 33 observations\n",
            "  mean=6.054545, MSE=0.1582369 \n",
            "\n",
            "Node number 25: 10 observations\n",
            "  mean=6.53, MSE=0.1301 \n",
            "\n"
          ],
          "name": "stdout"
        }
      ]
    },
    {
      "cell_type": "code",
      "metadata": {
        "colab": {
          "base_uri": "https://localhost:8080/",
          "height": 437
        },
        "id": "sBZVpZIUzpb2",
        "outputId": "6aef14fc-b506-4dd1-f44d-c4badf442420"
      },
      "source": [
        "# Visualização do modelo criado\n",
        "plot(modelo)\n",
        "text(modelo)"
      ],
      "execution_count": 9,
      "outputs": [
        {
          "output_type": "display_data",
          "data": {
            "image/png": "[encoded data removed]",
            "text/plain": [
              "plot without title"
            ]
          },
          "metadata": {
            "tags": [],
            "image/png": {
              "width": 420,
              "height": 420
            }
          }
        }
      ]
    },
    {
      "cell_type": "code",
      "metadata": {
        "colab": {
          "base_uri": "https://localhost:8080/",
          "height": 34
        },
        "id": "L42rpFu2z1K5",
        "outputId": "2998989a-9564-46e1-a547-ced2380ae3ae"
      },
      "source": [
        "# previsão\n",
        "predicao = predict(modelo, iris_part)\n",
        "head(predicao)"
      ],
      "execution_count": 10,
      "outputs": [
        {
          "output_type": "display_data",
          "data": {
            "text/plain": [
              "       1        2        3        4        5        6 \n",
              "5.169697 4.735000 4.735000 4.735000 5.169697 5.169697 "
            ],
            "text/latex": "\\begin{description*}\n\\item[1] 5.16969696969697\n\\item[2] 4.735\n\\item[3] 4.735\n\\item[4] 4.735\n\\item[5] 5.16969696969697\n\\item[6] 5.16969696969697\n\\end{description*}\n",
            "text/markdown": "1\n:   5.169696969696972\n:   4.7353\n:   4.7354\n:   4.7355\n:   5.169696969696976\n:   5.16969696969697\n\n",
            "text/html": [
              "<style>\n",
              ".dl-inline {width: auto; margin:0; padding: 0}\n",
              ".dl-inline>dt, .dl-inline>dd {float: none; width: auto; display: inline-block}\n",
              ".dl-inline>dt::after {content: \":\\0020\"; padding-right: .5ex}\n",
              ".dl-inline>dt:not(:first-of-type) {padding-left: .5ex}\n",
              "</style><dl class=dl-inline><dt>1</dt><dd>5.16969696969697</dd><dt>2</dt><dd>4.735</dd><dt>3</dt><dd>4.735</dd><dt>4</dt><dd>4.735</dd><dt>5</dt><dd>5.16969696969697</dd><dt>6</dt><dd>5.16969696969697</dd></dl>\n"
            ]
          },
          "metadata": {
            "tags": []
          }
        }
      ]
    },
    {
      "cell_type": "code",
      "metadata": {
        "colab": {
          "base_uri": "https://localhost:8080/",
          "height": 252
        },
        "id": "6MtPmWjO0Gkn",
        "outputId": "4d4471a9-1080-4f9a-de25-f92ea19dc58e"
      },
      "source": [
        "# Comparando a previsão com dados reais\n",
        "comparacao = cbind(predicao, iris_part$Petal.Length, predicao - iris_part$Sepal.Length)\n",
        "head(comparacao)"
      ],
      "execution_count": 12,
      "outputs": [
        {
          "output_type": "display_data",
          "data": {
            "text/plain": [
              "  predicao                \n",
              "1 5.169697 1.4  0.06969697\n",
              "2 4.735000 1.4 -0.16500000\n",
              "3 4.735000 1.3  0.03500000\n",
              "4 4.735000 1.5  0.13500000\n",
              "5 5.169697 1.4  0.16969697\n",
              "6 5.169697 1.7 -0.23030303"
            ],
            "text/latex": "A matrix: 6 × 3 of type dbl\n\\begin{tabular}{r|lll}\n  & predicao &  & \\\\\n\\hline\n\t1 & 5.169697 & 1.4 &  0.06969697\\\\\n\t2 & 4.735000 & 1.4 & -0.16500000\\\\\n\t3 & 4.735000 & 1.3 &  0.03500000\\\\\n\t4 & 4.735000 & 1.5 &  0.13500000\\\\\n\t5 & 5.169697 & 1.4 &  0.16969697\\\\\n\t6 & 5.169697 & 1.7 & -0.23030303\\\\\n\\end{tabular}\n",
            "text/markdown": "\nA matrix: 6 × 3 of type dbl\n\n| <!--/--> | predicao | <!----> | <!----> |\n|---|---|---|---|\n| 1 | 5.169697 | 1.4 |  0.06969697 |\n| 2 | 4.735000 | 1.4 | -0.16500000 |\n| 3 | 4.735000 | 1.3 |  0.03500000 |\n| 4 | 4.735000 | 1.5 |  0.13500000 |\n| 5 | 5.169697 | 1.4 |  0.16969697 |\n| 6 | 5.169697 | 1.7 | -0.23030303 |\n\n",
            "text/html": [
              "<table class=\"dataframe\">\n",
              "<caption>A matrix: 6 × 3 of type dbl</caption>\n",
              "<thead>\n",
              "\t<tr><th></th><th scope=col>predicao</th><th scope=col></th><th scope=col></th></tr>\n",
              "</thead>\n",
              "<tbody>\n",
              "\t<tr><th scope=row>1</th><td>5.169697</td><td>1.4</td><td> 0.06969697</td></tr>\n",
              "\t<tr><th scope=row>2</th><td>4.735000</td><td>1.4</td><td>-0.16500000</td></tr>\n",
              "\t<tr><th scope=row>3</th><td>4.735000</td><td>1.3</td><td> 0.03500000</td></tr>\n",
              "\t<tr><th scope=row>4</th><td>4.735000</td><td>1.5</td><td> 0.13500000</td></tr>\n",
              "\t<tr><th scope=row>5</th><td>5.169697</td><td>1.4</td><td> 0.16969697</td></tr>\n",
              "\t<tr><th scope=row>6</th><td>5.169697</td><td>1.7</td><td>-0.23030303</td></tr>\n",
              "</tbody>\n",
              "</table>\n"
            ]
          },
          "metadata": {
            "tags": []
          }
        }
      ]
    },
    {
      "cell_type": "code",
      "metadata": {
        "colab": {
          "base_uri": "https://localhost:8080/",
          "height": 97
        },
        "id": "0hxiIYMy05oP",
        "outputId": "036684b8-d173-488d-cf9d-469aa0eb41f7"
      },
      "source": [
        "# Verificamos métricas de erro de nosso modelo\n",
        "accuracy(predicao, iris_part$Petal.Length)"
      ],
      "execution_count": 13,
      "outputs": [
        {
          "output_type": "display_data",
          "data": {
            "text/plain": [
              "         ME        RMSE     MAE      MPE       MAPE    \n",
              "Test set -2.085333 2.354953 2.085333 -102.2052 102.2052"
            ],
            "text/latex": "A matrix: 1 × 5 of type dbl\n\\begin{tabular}{r|lllll}\n  & ME & RMSE & MAE & MPE & MAPE\\\\\n\\hline\n\tTest set & -2.085333 & 2.354953 & 2.085333 & -102.2052 & 102.2052\\\\\n\\end{tabular}\n",
            "text/markdown": "\nA matrix: 1 × 5 of type dbl\n\n| <!--/--> | ME | RMSE | MAE | MPE | MAPE |\n|---|---|---|---|---|---|\n| Test set | -2.085333 | 2.354953 | 2.085333 | -102.2052 | 102.2052 |\n\n",
            "text/html": [
              "<table class=\"dataframe\">\n",
              "<caption>A matrix: 1 × 5 of type dbl</caption>\n",
              "<thead>\n",
              "\t<tr><th></th><th scope=col>ME</th><th scope=col>RMSE</th><th scope=col>MAE</th><th scope=col>MPE</th><th scope=col>MAPE</th></tr>\n",
              "</thead>\n",
              "<tbody>\n",
              "\t<tr><th scope=row>Test set</th><td>-2.085333</td><td>2.354953</td><td>2.085333</td><td>-102.2052</td><td>102.2052</td></tr>\n",
              "</tbody>\n",
              "</table>\n"
            ]
          },
          "metadata": {
            "tags": []
          }
        }
      ]
    },
    {
      "cell_type": "markdown",
      "metadata": {
        "id": "Bh774VWaCpsy"
      },
      "source": [
        "#Árvore de Decisão Para Classificação"
      ]
    },
    {
      "cell_type": "markdown",
      "metadata": {
        "id": "2vkz7hCmCzlS"
      },
      "source": [
        "Estudo de Caso\n",
        "\n",
        "Usando dados historicos de clientes para prever se um novo cliente é ou não bom pagador de um determinado emprestimo."
      ]
    },
    {
      "cell_type": "code",
      "metadata": {
        "id": "a_mJAFEX1K_e"
      },
      "source": [
        "library(rpart)"
      ],
      "execution_count": 14,
      "outputs": []
    },
    {
      "cell_type": "code",
      "metadata": {
        "id": "SM4VFLQTDaZG"
      },
      "source": [
        "# carrega a base de dados\n",
        "credito = read.csv(\"dados/Credit.csv\")\n",
        "\n",
        "# criando uma amostra\n",
        "amostra = sample(2, 1000, replace = T, prob = c(0.7, 0.3))\n",
        "\n",
        "# criando dados de treino e de teste -> holdout\n",
        "credito_treino <- credito[amostra==1, ]\n",
        "credito_teste <- credito[amostra==2, ]"
      ],
      "execution_count": 17,
      "outputs": []
    },
    {
      "cell_type": "code",
      "metadata": {
        "id": "UazQgzJCEJdU"
      },
      "source": [
        "# Criando o modelo de arvore de decisão para classificação\n",
        "arvore <- rpart(class ~ ., data = credito_treino, method = \"class\")"
      ],
      "execution_count": 18,
      "outputs": []
    },
    {
      "cell_type": "code",
      "metadata": {
        "colab": {
          "base_uri": "https://localhost:8080/"
        },
        "id": "j8snVLbLEezD",
        "outputId": "91f6a31a-9475-4699-b470-a68455e1b6b3"
      },
      "source": [
        "# visualizando a arvore gerada de forma textual\n",
        "print(arvore)"
      ],
      "execution_count": 19,
      "outputs": [
        {
          "output_type": "stream",
          "text": [
            "n= 688 \n",
            "\n",
            "node), split, n, loss, yval, (yprob)\n",
            "      * denotes terminal node\n",
            "\n",
            " 1) root 688 201 good (0.29215116 0.70784884)  \n",
            "   2) checking_status=<0,>=200,0<=X<200 416 173 good (0.41586538 0.58413462)  \n",
            "     4) credit_history='all paid','no credits/all paid' 49  14 bad (0.71428571 0.28571429)  \n",
            "       8) purpose='new car',education,furniture/equipment,other,radio/tv,repairs 29   4 bad (0.86206897 0.13793103) *\n",
            "       9) purpose='used car',business,retraining 20  10 bad (0.50000000 0.50000000)  \n",
            "        18) other_payment_plans=none,stores 13   4 bad (0.69230769 0.30769231) *\n",
            "        19) other_payment_plans=bank 7   1 good (0.14285714 0.85714286) *\n",
            "     5) credit_history='critical/other existing credit','delayed previously','existing paid' 367 138 good (0.37602180 0.62397820)  \n",
            "      10) duration>=17 205  97 good (0.47317073 0.52682927)  \n",
            "        20) purpose='domestic appliance','new car',education,radio/tv,repairs 112  44 bad (0.60714286 0.39285714)  \n",
            "          40) employment=<1,1<=X<4,unemployed 73  20 bad (0.72602740 0.27397260) *\n",
            "          41) employment=>=7,4<=X<7 39  15 good (0.38461538 0.61538462)  \n",
            "            82) purpose='new car' 19   7 bad (0.63157895 0.36842105) *\n",
            "            83) purpose=education,radio/tv 20   3 good (0.15000000 0.85000000) *\n",
            "        21) purpose='used car',business,furniture/equipment,other 93  29 good (0.31182796 0.68817204)  \n",
            "          42) credit_amount>=7993.5 12   4 bad (0.66666667 0.33333333) *\n",
            "          43) credit_amount< 7993.5 81  21 good (0.25925926 0.74074074) *\n",
            "      11) duration< 17 162  41 good (0.25308642 0.74691358)  \n",
            "        22) credit_amount< 971 40  18 good (0.45000000 0.55000000)  \n",
            "          44) duration>=8.5 28  11 bad (0.60714286 0.39285714)  \n",
            "            88) property_magnitude='life insurance',car 13   2 bad (0.84615385 0.15384615) *\n",
            "            89) property_magnitude='no known property','real estate' 15   6 good (0.40000000 0.60000000) *\n",
            "          45) duration< 8.5 12   1 good (0.08333333 0.91666667) *\n",
            "        23) credit_amount>=971 122  23 good (0.18852459 0.81147541)  \n",
            "          46) property_magnitude='no known property' 13   5 bad (0.61538462 0.38461538) *\n",
            "          47) property_magnitude='life insurance','real estate',car 109  15 good (0.13761468 0.86238532) *\n",
            "   3) checking_status='no checking' 272  28 good (0.10294118 0.89705882) *\n"
          ],
          "name": "stdout"
        }
      ]
    },
    {
      "cell_type": "code",
      "metadata": {
        "colab": {
          "base_uri": "https://localhost:8080/",
          "height": 437
        },
        "id": "ZOoWDpluEo9v",
        "outputId": "125e4e53-cfbc-4f2d-9ef3-dd55059eb910"
      },
      "source": [
        "# visualizando de forma grafica\n",
        "plot(arvore)\n",
        "text(arvore, use.n = TRUE, all = TRUE, cex = .8)"
      ],
      "execution_count": 20,
      "outputs": [
        {
          "output_type": "display_data",
          "data": {
            "image/png": "[encoded data removed]",
            "text/plain": [
              "plot without title"
            ]
          },
          "metadata": {
            "tags": [],
            "image/png": {
              "width": 420,
              "height": 420
            }
          }
        }
      ]
    },
    {
      "cell_type": "code",
      "metadata": {
        "colab": {
          "base_uri": "https://localhost:8080/",
          "height": 252
        },
        "id": "TxnjluNpFA_V",
        "outputId": "5d3dd5f8-5343-47e1-d5c4-596872417cd9"
      },
      "source": [
        "# previsao com dados de teste\n",
        "teste <- predict(arvore, newdata = credito_teste)\n",
        "head(teste)"
      ],
      "execution_count": 22,
      "outputs": [
        {
          "output_type": "display_data",
          "data": {
            "text/plain": [
              "   bad       good     \n",
              "2  0.7260274 0.2739726\n",
              "3  0.1029412 0.8970588\n",
              "4  0.2592593 0.7407407\n",
              "6  0.1029412 0.8970588\n",
              "15 0.1376147 0.8623853\n",
              "28 0.8620690 0.1379310"
            ],
            "text/latex": "A matrix: 6 × 2 of type dbl\n\\begin{tabular}{r|ll}\n  & bad & good\\\\\n\\hline\n\t2 & 0.7260274 & 0.2739726\\\\\n\t3 & 0.1029412 & 0.8970588\\\\\n\t4 & 0.2592593 & 0.7407407\\\\\n\t6 & 0.1029412 & 0.8970588\\\\\n\t15 & 0.1376147 & 0.8623853\\\\\n\t28 & 0.8620690 & 0.1379310\\\\\n\\end{tabular}\n",
            "text/markdown": "\nA matrix: 6 × 2 of type dbl\n\n| <!--/--> | bad | good |\n|---|---|---|\n| 2 | 0.7260274 | 0.2739726 |\n| 3 | 0.1029412 | 0.8970588 |\n| 4 | 0.2592593 | 0.7407407 |\n| 6 | 0.1029412 | 0.8970588 |\n| 15 | 0.1376147 | 0.8623853 |\n| 28 | 0.8620690 | 0.1379310 |\n\n",
            "text/html": [
              "<table class=\"dataframe\">\n",
              "<caption>A matrix: 6 × 2 of type dbl</caption>\n",
              "<thead>\n",
              "\t<tr><th></th><th scope=col>bad</th><th scope=col>good</th></tr>\n",
              "</thead>\n",
              "<tbody>\n",
              "\t<tr><th scope=row>2</th><td>0.7260274</td><td>0.2739726</td></tr>\n",
              "\t<tr><th scope=row>3</th><td>0.1029412</td><td>0.8970588</td></tr>\n",
              "\t<tr><th scope=row>4</th><td>0.2592593</td><td>0.7407407</td></tr>\n",
              "\t<tr><th scope=row>6</th><td>0.1029412</td><td>0.8970588</td></tr>\n",
              "\t<tr><th scope=row>15</th><td>0.1376147</td><td>0.8623853</td></tr>\n",
              "\t<tr><th scope=row>28</th><td>0.8620690</td><td>0.1379310</td></tr>\n",
              "</tbody>\n",
              "</table>\n"
            ]
          },
          "metadata": {
            "tags": []
          }
        }
      ]
    },
    {
      "cell_type": "code",
      "metadata": {
        "colab": {
          "base_uri": "https://localhost:8080/",
          "height": 388
        },
        "id": "UiNGXAEWFNa8",
        "outputId": "effe2395-aff8-44a3-9b88-02d0cc6d4174"
      },
      "source": [
        "# Adicionando uma coluna a credito_teste\n",
        "cred <- cbind(credito_teste, teste)\n",
        "head(cred)"
      ],
      "execution_count": 25,
      "outputs": [
        {
          "output_type": "display_data",
          "data": {
            "text/plain": [
              "   checking_status duration credit_history                  \n",
              "2  0<=X<200        48       'existing paid'                 \n",
              "3  'no checking'   12       'critical/other existing credit'\n",
              "4  <0              42       'existing paid'                 \n",
              "6  'no checking'   36       'existing paid'                 \n",
              "15 <0              15       'existing paid'                 \n",
              "28 >=200           12       'all paid'                      \n",
              "   purpose             credit_amount savings_status     employment\n",
              "2  radio/tv            5951          <100               1<=X<4    \n",
              "3  education           2096          <100               4<=X<7    \n",
              "4  furniture/equipment 7882          <100               4<=X<7    \n",
              "6  education           9055          'no known savings' 1<=X<4    \n",
              "15 'new car'           1403          <100               1<=X<4    \n",
              "28 radio/tv             409          >=1000             1<=X<4    \n",
              "   installment_commitment personal_status      other_parties ⋯\n",
              "2  2                      'female div/dep/mar' none          ⋯\n",
              "3  2                      'male single'        none          ⋯\n",
              "4  2                      'male single'        guarantor     ⋯\n",
              "6  2                      'male single'        none          ⋯\n",
              "15 2                      'female div/dep/mar' none          ⋯\n",
              "28 3                      'female div/dep/mar' none          ⋯\n",
              "   other_payment_plans housing    existing_credits job                 \n",
              "2  none                own        1                skilled             \n",
              "3  none                own        1                'unskilled resident'\n",
              "4  none                'for free' 1                skilled             \n",
              "6  none                'for free' 1                'unskilled resident'\n",
              "15 none                rent       1                skilled             \n",
              "28 none                rent       2                skilled             \n",
              "   num_dependents own_telephone foreign_worker class bad       good     \n",
              "2  1              none          yes            bad   0.7260274 0.2739726\n",
              "3  2              none          yes            good  0.1029412 0.8970588\n",
              "4  2              none          yes            good  0.2592593 0.7407407\n",
              "6  2              yes           yes            good  0.1029412 0.8970588\n",
              "15 1              none          yes            good  0.1376147 0.8623853\n",
              "28 1              none          yes            good  0.8620690 0.1379310"
            ],
            "text/latex": "A data.frame: 6 × 23\n\\begin{tabular}{r|lllllllllllllllllllll}\n  & checking\\_status & duration & credit\\_history & purpose & credit\\_amount & savings\\_status & employment & installment\\_commitment & personal\\_status & other\\_parties & ⋯ & other\\_payment\\_plans & housing & existing\\_credits & job & num\\_dependents & own\\_telephone & foreign\\_worker & class & bad & good\\\\\n  & <chr> & <int> & <chr> & <chr> & <int> & <chr> & <chr> & <int> & <chr> & <chr> & ⋯ & <chr> & <chr> & <int> & <chr> & <int> & <chr> & <chr> & <chr> & <dbl> & <dbl>\\\\\n\\hline\n\t2 & 0<=X<200      & 48 & 'existing paid'                  & radio/tv            & 5951 & <100               & 1<=X<4 & 2 & 'female div/dep/mar' & none      & ⋯ & none & own        & 1 & skilled              & 1 & none & yes & bad  & 0.7260274 & 0.2739726\\\\\n\t3 & 'no checking' & 12 & 'critical/other existing credit' & education           & 2096 & <100               & 4<=X<7 & 2 & 'male single'        & none      & ⋯ & none & own        & 1 & 'unskilled resident' & 2 & none & yes & good & 0.1029412 & 0.8970588\\\\\n\t4 & <0            & 42 & 'existing paid'                  & furniture/equipment & 7882 & <100               & 4<=X<7 & 2 & 'male single'        & guarantor & ⋯ & none & 'for free' & 1 & skilled              & 2 & none & yes & good & 0.2592593 & 0.7407407\\\\\n\t6 & 'no checking' & 36 & 'existing paid'                  & education           & 9055 & 'no known savings' & 1<=X<4 & 2 & 'male single'        & none      & ⋯ & none & 'for free' & 1 & 'unskilled resident' & 2 & yes  & yes & good & 0.1029412 & 0.8970588\\\\\n\t15 & <0            & 15 & 'existing paid'                  & 'new car'           & 1403 & <100               & 1<=X<4 & 2 & 'female div/dep/mar' & none      & ⋯ & none & rent       & 1 & skilled              & 1 & none & yes & good & 0.1376147 & 0.8623853\\\\\n\t28 & >=200         & 12 & 'all paid'                       & radio/tv            &  409 & >=1000             & 1<=X<4 & 3 & 'female div/dep/mar' & none      & ⋯ & none & rent       & 2 & skilled              & 1 & none & yes & good & 0.8620690 & 0.1379310\\\\\n\\end{tabular}\n",
            "text/markdown": "\nA data.frame: 6 × 23\n\n| <!--/--> | checking_status &lt;chr&gt; | duration &lt;int&gt; | credit_history &lt;chr&gt; | purpose &lt;chr&gt; | credit_amount &lt;int&gt; | savings_status &lt;chr&gt; | employment &lt;chr&gt; | installment_commitment &lt;int&gt; | personal_status &lt;chr&gt; | other_parties &lt;chr&gt; | ⋯ ⋯ | other_payment_plans &lt;chr&gt; | housing &lt;chr&gt; | existing_credits &lt;int&gt; | job &lt;chr&gt; | num_dependents &lt;int&gt; | own_telephone &lt;chr&gt; | foreign_worker &lt;chr&gt; | class &lt;chr&gt; | bad &lt;dbl&gt; | good &lt;dbl&gt; |\n|---|---|---|---|---|---|---|---|---|---|---|---|---|---|---|---|---|---|---|---|---|---|\n| 2 | 0&lt;=X&lt;200      | 48 | 'existing paid'                  | radio/tv            | 5951 | &lt;100               | 1&lt;=X&lt;4 | 2 | 'female div/dep/mar' | none      | ⋯ | none | own        | 1 | skilled              | 1 | none | yes | bad  | 0.7260274 | 0.2739726 |\n| 3 | 'no checking' | 12 | 'critical/other existing credit' | education           | 2096 | &lt;100               | 4&lt;=X&lt;7 | 2 | 'male single'        | none      | ⋯ | none | own        | 1 | 'unskilled resident' | 2 | none | yes | good | 0.1029412 | 0.8970588 |\n| 4 | &lt;0            | 42 | 'existing paid'                  | furniture/equipment | 7882 | &lt;100               | 4&lt;=X&lt;7 | 2 | 'male single'        | guarantor | ⋯ | none | 'for free' | 1 | skilled              | 2 | none | yes | good | 0.2592593 | 0.7407407 |\n| 6 | 'no checking' | 36 | 'existing paid'                  | education           | 9055 | 'no known savings' | 1&lt;=X&lt;4 | 2 | 'male single'        | none      | ⋯ | none | 'for free' | 1 | 'unskilled resident' | 2 | yes  | yes | good | 0.1029412 | 0.8970588 |\n| 15 | &lt;0            | 15 | 'existing paid'                  | 'new car'           | 1403 | &lt;100               | 1&lt;=X&lt;4 | 2 | 'female div/dep/mar' | none      | ⋯ | none | rent       | 1 | skilled              | 1 | none | yes | good | 0.1376147 | 0.8623853 |\n| 28 | &gt;=200         | 12 | 'all paid'                       | radio/tv            |  409 | &gt;=1000             | 1&lt;=X&lt;4 | 3 | 'female div/dep/mar' | none      | ⋯ | none | rent       | 2 | skilled              | 1 | none | yes | good | 0.8620690 | 0.1379310 |\n\n",
            "text/html": [
              "<table class=\"dataframe\">\n",
              "<caption>A data.frame: 6 × 23</caption>\n",
              "<thead>\n",
              "\t<tr><th></th><th scope=col>checking_status</th><th scope=col>duration</th><th scope=col>credit_history</th><th scope=col>purpose</th><th scope=col>credit_amount</th><th scope=col>savings_status</th><th scope=col>employment</th><th scope=col>installment_commitment</th><th scope=col>personal_status</th><th scope=col>other_parties</th><th scope=col>⋯</th><th scope=col>other_payment_plans</th><th scope=col>housing</th><th scope=col>existing_credits</th><th scope=col>job</th><th scope=col>num_dependents</th><th scope=col>own_telephone</th><th scope=col>foreign_worker</th><th scope=col>class</th><th scope=col>bad</th><th scope=col>good</th></tr>\n",
              "\t<tr><th></th><th scope=col>&lt;chr&gt;</th><th scope=col>&lt;int&gt;</th><th scope=col>&lt;chr&gt;</th><th scope=col>&lt;chr&gt;</th><th scope=col>&lt;int&gt;</th><th scope=col>&lt;chr&gt;</th><th scope=col>&lt;chr&gt;</th><th scope=col>&lt;int&gt;</th><th scope=col>&lt;chr&gt;</th><th scope=col>&lt;chr&gt;</th><th scope=col>⋯</th><th scope=col>&lt;chr&gt;</th><th scope=col>&lt;chr&gt;</th><th scope=col>&lt;int&gt;</th><th scope=col>&lt;chr&gt;</th><th scope=col>&lt;int&gt;</th><th scope=col>&lt;chr&gt;</th><th scope=col>&lt;chr&gt;</th><th scope=col>&lt;chr&gt;</th><th scope=col>&lt;dbl&gt;</th><th scope=col>&lt;dbl&gt;</th></tr>\n",
              "</thead>\n",
              "<tbody>\n",
              "\t<tr><th scope=row>2</th><td><span style=white-space:pre-wrap>0&lt;=X&lt;200     </span></td><td>48</td><td><span style=white-space:pre-wrap>'existing paid'                 </span></td><td><span style=white-space:pre-wrap>radio/tv           </span></td><td>5951</td><td><span style=white-space:pre-wrap>&lt;100              </span></td><td>1&lt;=X&lt;4</td><td>2</td><td>'female div/dep/mar'</td><td><span style=white-space:pre-wrap>none     </span></td><td>⋯</td><td>none</td><td><span style=white-space:pre-wrap>own       </span></td><td>1</td><td><span style=white-space:pre-wrap>skilled             </span></td><td>1</td><td>none</td><td>yes</td><td>bad </td><td>0.7260274</td><td>0.2739726</td></tr>\n",
              "\t<tr><th scope=row>3</th><td>'no checking'</td><td>12</td><td>'critical/other existing credit'</td><td><span style=white-space:pre-wrap>education          </span></td><td>2096</td><td><span style=white-space:pre-wrap>&lt;100              </span></td><td>4&lt;=X&lt;7</td><td>2</td><td><span style=white-space:pre-wrap>'male single'       </span></td><td><span style=white-space:pre-wrap>none     </span></td><td>⋯</td><td>none</td><td><span style=white-space:pre-wrap>own       </span></td><td>1</td><td>'unskilled resident'</td><td>2</td><td>none</td><td>yes</td><td>good</td><td>0.1029412</td><td>0.8970588</td></tr>\n",
              "\t<tr><th scope=row>4</th><td><span style=white-space:pre-wrap>&lt;0           </span></td><td>42</td><td><span style=white-space:pre-wrap>'existing paid'                 </span></td><td>furniture/equipment</td><td>7882</td><td><span style=white-space:pre-wrap>&lt;100              </span></td><td>4&lt;=X&lt;7</td><td>2</td><td><span style=white-space:pre-wrap>'male single'       </span></td><td>guarantor</td><td>⋯</td><td>none</td><td>'for free'</td><td>1</td><td><span style=white-space:pre-wrap>skilled             </span></td><td>2</td><td>none</td><td>yes</td><td>good</td><td>0.2592593</td><td>0.7407407</td></tr>\n",
              "\t<tr><th scope=row>6</th><td>'no checking'</td><td>36</td><td><span style=white-space:pre-wrap>'existing paid'                 </span></td><td><span style=white-space:pre-wrap>education          </span></td><td>9055</td><td>'no known savings'</td><td>1&lt;=X&lt;4</td><td>2</td><td><span style=white-space:pre-wrap>'male single'       </span></td><td><span style=white-space:pre-wrap>none     </span></td><td>⋯</td><td>none</td><td>'for free'</td><td>1</td><td>'unskilled resident'</td><td>2</td><td>yes </td><td>yes</td><td>good</td><td>0.1029412</td><td>0.8970588</td></tr>\n",
              "\t<tr><th scope=row>15</th><td><span style=white-space:pre-wrap>&lt;0           </span></td><td>15</td><td><span style=white-space:pre-wrap>'existing paid'                 </span></td><td><span style=white-space:pre-wrap>'new car'          </span></td><td>1403</td><td><span style=white-space:pre-wrap>&lt;100              </span></td><td>1&lt;=X&lt;4</td><td>2</td><td>'female div/dep/mar'</td><td><span style=white-space:pre-wrap>none     </span></td><td>⋯</td><td>none</td><td><span style=white-space:pre-wrap>rent      </span></td><td>1</td><td><span style=white-space:pre-wrap>skilled             </span></td><td>1</td><td>none</td><td>yes</td><td>good</td><td>0.1376147</td><td>0.8623853</td></tr>\n",
              "\t<tr><th scope=row>28</th><td><span style=white-space:pre-wrap>&gt;=200        </span></td><td>12</td><td><span style=white-space:pre-wrap>'all paid'                      </span></td><td><span style=white-space:pre-wrap>radio/tv           </span></td><td> 409</td><td><span style=white-space:pre-wrap>&gt;=1000            </span></td><td>1&lt;=X&lt;4</td><td>3</td><td>'female div/dep/mar'</td><td><span style=white-space:pre-wrap>none     </span></td><td>⋯</td><td>none</td><td><span style=white-space:pre-wrap>rent      </span></td><td>2</td><td><span style=white-space:pre-wrap>skilled             </span></td><td>1</td><td>none</td><td>yes</td><td>good</td><td>0.8620690</td><td>0.1379310</td></tr>\n",
              "</tbody>\n",
              "</table>\n"
            ]
          },
          "metadata": {
            "tags": []
          }
        }
      ]
    },
    {
      "cell_type": "code",
      "metadata": {
        "colab": {
          "base_uri": "https://localhost:8080/",
          "height": 388
        },
        "id": "F0lVVF9sFhoH",
        "outputId": "f6927ae3-e45a-43f6-d5f0-79990f286d37"
      },
      "source": [
        "# Cria uma coluna resultado categorigo\n",
        "cred['Reult'] = ifelse(cred$bad >=0.5, \"bad\",\"good\")\n",
        "head(cred)"
      ],
      "execution_count": 40,
      "outputs": [
        {
          "output_type": "display_data",
          "data": {
            "text/plain": [
              "   checking_status duration credit_history                  \n",
              "2  0<=X<200        48       'existing paid'                 \n",
              "3  'no checking'   12       'critical/other existing credit'\n",
              "4  <0              42       'existing paid'                 \n",
              "6  'no checking'   36       'existing paid'                 \n",
              "15 <0              15       'existing paid'                 \n",
              "28 >=200           12       'all paid'                      \n",
              "   purpose             credit_amount savings_status     employment\n",
              "2  radio/tv            5951          <100               1<=X<4    \n",
              "3  education           2096          <100               4<=X<7    \n",
              "4  furniture/equipment 7882          <100               4<=X<7    \n",
              "6  education           9055          'no known savings' 1<=X<4    \n",
              "15 'new car'           1403          <100               1<=X<4    \n",
              "28 radio/tv             409          >=1000             1<=X<4    \n",
              "   installment_commitment personal_status      other_parties ⋯ housing   \n",
              "2  2                      'female div/dep/mar' none          ⋯ own       \n",
              "3  2                      'male single'        none          ⋯ own       \n",
              "4  2                      'male single'        guarantor     ⋯ 'for free'\n",
              "6  2                      'male single'        none          ⋯ 'for free'\n",
              "15 2                      'female div/dep/mar' none          ⋯ rent      \n",
              "28 3                      'female div/dep/mar' none          ⋯ rent      \n",
              "   existing_credits job                  num_dependents own_telephone\n",
              "2  1                skilled              1              none         \n",
              "3  1                'unskilled resident' 2              none         \n",
              "4  1                skilled              2              none         \n",
              "6  1                'unskilled resident' 2              yes          \n",
              "15 1                skilled              1              none         \n",
              "28 2                skilled              1              none         \n",
              "   foreign_worker class bad       good      Reult\n",
              "2  yes            bad   0.7260274 0.2739726 bad  \n",
              "3  yes            good  0.1029412 0.8970588 good \n",
              "4  yes            good  0.2592593 0.7407407 good \n",
              "6  yes            good  0.1029412 0.8970588 good \n",
              "15 yes            good  0.1376147 0.8623853 good \n",
              "28 yes            good  0.8620690 0.1379310 bad  "
            ],
            "text/latex": "A data.frame: 6 × 24\n\\begin{tabular}{r|lllllllllllllllllllll}\n  & checking\\_status & duration & credit\\_history & purpose & credit\\_amount & savings\\_status & employment & installment\\_commitment & personal\\_status & other\\_parties & ⋯ & housing & existing\\_credits & job & num\\_dependents & own\\_telephone & foreign\\_worker & class & bad & good & Reult\\\\\n  & <chr> & <int> & <chr> & <chr> & <int> & <chr> & <chr> & <int> & <chr> & <chr> & ⋯ & <chr> & <int> & <chr> & <int> & <chr> & <chr> & <chr> & <dbl> & <dbl> & <chr>\\\\\n\\hline\n\t2 & 0<=X<200      & 48 & 'existing paid'                  & radio/tv            & 5951 & <100               & 1<=X<4 & 2 & 'female div/dep/mar' & none      & ⋯ & own        & 1 & skilled              & 1 & none & yes & bad  & 0.7260274 & 0.2739726 & bad \\\\\n\t3 & 'no checking' & 12 & 'critical/other existing credit' & education           & 2096 & <100               & 4<=X<7 & 2 & 'male single'        & none      & ⋯ & own        & 1 & 'unskilled resident' & 2 & none & yes & good & 0.1029412 & 0.8970588 & good\\\\\n\t4 & <0            & 42 & 'existing paid'                  & furniture/equipment & 7882 & <100               & 4<=X<7 & 2 & 'male single'        & guarantor & ⋯ & 'for free' & 1 & skilled              & 2 & none & yes & good & 0.2592593 & 0.7407407 & good\\\\\n\t6 & 'no checking' & 36 & 'existing paid'                  & education           & 9055 & 'no known savings' & 1<=X<4 & 2 & 'male single'        & none      & ⋯ & 'for free' & 1 & 'unskilled resident' & 2 & yes  & yes & good & 0.1029412 & 0.8970588 & good\\\\\n\t15 & <0            & 15 & 'existing paid'                  & 'new car'           & 1403 & <100               & 1<=X<4 & 2 & 'female div/dep/mar' & none      & ⋯ & rent       & 1 & skilled              & 1 & none & yes & good & 0.1376147 & 0.8623853 & good\\\\\n\t28 & >=200         & 12 & 'all paid'                       & radio/tv            &  409 & >=1000             & 1<=X<4 & 3 & 'female div/dep/mar' & none      & ⋯ & rent       & 2 & skilled              & 1 & none & yes & good & 0.8620690 & 0.1379310 & bad \\\\\n\\end{tabular}\n",
            "text/markdown": "\nA data.frame: 6 × 24\n\n| <!--/--> | checking_status &lt;chr&gt; | duration &lt;int&gt; | credit_history &lt;chr&gt; | purpose &lt;chr&gt; | credit_amount &lt;int&gt; | savings_status &lt;chr&gt; | employment &lt;chr&gt; | installment_commitment &lt;int&gt; | personal_status &lt;chr&gt; | other_parties &lt;chr&gt; | ⋯ ⋯ | housing &lt;chr&gt; | existing_credits &lt;int&gt; | job &lt;chr&gt; | num_dependents &lt;int&gt; | own_telephone &lt;chr&gt; | foreign_worker &lt;chr&gt; | class &lt;chr&gt; | bad &lt;dbl&gt; | good &lt;dbl&gt; | Reult &lt;chr&gt; |\n|---|---|---|---|---|---|---|---|---|---|---|---|---|---|---|---|---|---|---|---|---|---|\n| 2 | 0&lt;=X&lt;200      | 48 | 'existing paid'                  | radio/tv            | 5951 | &lt;100               | 1&lt;=X&lt;4 | 2 | 'female div/dep/mar' | none      | ⋯ | own        | 1 | skilled              | 1 | none | yes | bad  | 0.7260274 | 0.2739726 | bad  |\n| 3 | 'no checking' | 12 | 'critical/other existing credit' | education           | 2096 | &lt;100               | 4&lt;=X&lt;7 | 2 | 'male single'        | none      | ⋯ | own        | 1 | 'unskilled resident' | 2 | none | yes | good | 0.1029412 | 0.8970588 | good |\n| 4 | &lt;0            | 42 | 'existing paid'                  | furniture/equipment | 7882 | &lt;100               | 4&lt;=X&lt;7 | 2 | 'male single'        | guarantor | ⋯ | 'for free' | 1 | skilled              | 2 | none | yes | good | 0.2592593 | 0.7407407 | good |\n| 6 | 'no checking' | 36 | 'existing paid'                  | education           | 9055 | 'no known savings' | 1&lt;=X&lt;4 | 2 | 'male single'        | none      | ⋯ | 'for free' | 1 | 'unskilled resident' | 2 | yes  | yes | good | 0.1029412 | 0.8970588 | good |\n| 15 | &lt;0            | 15 | 'existing paid'                  | 'new car'           | 1403 | &lt;100               | 1&lt;=X&lt;4 | 2 | 'female div/dep/mar' | none      | ⋯ | rent       | 1 | skilled              | 1 | none | yes | good | 0.1376147 | 0.8623853 | good |\n| 28 | &gt;=200         | 12 | 'all paid'                       | radio/tv            |  409 | &gt;=1000             | 1&lt;=X&lt;4 | 3 | 'female div/dep/mar' | none      | ⋯ | rent       | 2 | skilled              | 1 | none | yes | good | 0.8620690 | 0.1379310 | bad  |\n\n",
            "text/html": [
              "<table class=\"dataframe\">\n",
              "<caption>A data.frame: 6 × 24</caption>\n",
              "<thead>\n",
              "\t<tr><th></th><th scope=col>checking_status</th><th scope=col>duration</th><th scope=col>credit_history</th><th scope=col>purpose</th><th scope=col>credit_amount</th><th scope=col>savings_status</th><th scope=col>employment</th><th scope=col>installment_commitment</th><th scope=col>personal_status</th><th scope=col>other_parties</th><th scope=col>⋯</th><th scope=col>housing</th><th scope=col>existing_credits</th><th scope=col>job</th><th scope=col>num_dependents</th><th scope=col>own_telephone</th><th scope=col>foreign_worker</th><th scope=col>class</th><th scope=col>bad</th><th scope=col>good</th><th scope=col>Reult</th></tr>\n",
              "\t<tr><th></th><th scope=col>&lt;chr&gt;</th><th scope=col>&lt;int&gt;</th><th scope=col>&lt;chr&gt;</th><th scope=col>&lt;chr&gt;</th><th scope=col>&lt;int&gt;</th><th scope=col>&lt;chr&gt;</th><th scope=col>&lt;chr&gt;</th><th scope=col>&lt;int&gt;</th><th scope=col>&lt;chr&gt;</th><th scope=col>&lt;chr&gt;</th><th scope=col>⋯</th><th scope=col>&lt;chr&gt;</th><th scope=col>&lt;int&gt;</th><th scope=col>&lt;chr&gt;</th><th scope=col>&lt;int&gt;</th><th scope=col>&lt;chr&gt;</th><th scope=col>&lt;chr&gt;</th><th scope=col>&lt;chr&gt;</th><th scope=col>&lt;dbl&gt;</th><th scope=col>&lt;dbl&gt;</th><th scope=col>&lt;chr&gt;</th></tr>\n",
              "</thead>\n",
              "<tbody>\n",
              "\t<tr><th scope=row>2</th><td><span style=white-space:pre-wrap>0&lt;=X&lt;200     </span></td><td>48</td><td><span style=white-space:pre-wrap>'existing paid'                 </span></td><td><span style=white-space:pre-wrap>radio/tv           </span></td><td>5951</td><td><span style=white-space:pre-wrap>&lt;100              </span></td><td>1&lt;=X&lt;4</td><td>2</td><td>'female div/dep/mar'</td><td><span style=white-space:pre-wrap>none     </span></td><td>⋯</td><td><span style=white-space:pre-wrap>own       </span></td><td>1</td><td><span style=white-space:pre-wrap>skilled             </span></td><td>1</td><td>none</td><td>yes</td><td>bad </td><td>0.7260274</td><td>0.2739726</td><td>bad </td></tr>\n",
              "\t<tr><th scope=row>3</th><td>'no checking'</td><td>12</td><td>'critical/other existing credit'</td><td><span style=white-space:pre-wrap>education          </span></td><td>2096</td><td><span style=white-space:pre-wrap>&lt;100              </span></td><td>4&lt;=X&lt;7</td><td>2</td><td><span style=white-space:pre-wrap>'male single'       </span></td><td><span style=white-space:pre-wrap>none     </span></td><td>⋯</td><td><span style=white-space:pre-wrap>own       </span></td><td>1</td><td>'unskilled resident'</td><td>2</td><td>none</td><td>yes</td><td>good</td><td>0.1029412</td><td>0.8970588</td><td>good</td></tr>\n",
              "\t<tr><th scope=row>4</th><td><span style=white-space:pre-wrap>&lt;0           </span></td><td>42</td><td><span style=white-space:pre-wrap>'existing paid'                 </span></td><td>furniture/equipment</td><td>7882</td><td><span style=white-space:pre-wrap>&lt;100              </span></td><td>4&lt;=X&lt;7</td><td>2</td><td><span style=white-space:pre-wrap>'male single'       </span></td><td>guarantor</td><td>⋯</td><td>'for free'</td><td>1</td><td><span style=white-space:pre-wrap>skilled             </span></td><td>2</td><td>none</td><td>yes</td><td>good</td><td>0.2592593</td><td>0.7407407</td><td>good</td></tr>\n",
              "\t<tr><th scope=row>6</th><td>'no checking'</td><td>36</td><td><span style=white-space:pre-wrap>'existing paid'                 </span></td><td><span style=white-space:pre-wrap>education          </span></td><td>9055</td><td>'no known savings'</td><td>1&lt;=X&lt;4</td><td>2</td><td><span style=white-space:pre-wrap>'male single'       </span></td><td><span style=white-space:pre-wrap>none     </span></td><td>⋯</td><td>'for free'</td><td>1</td><td>'unskilled resident'</td><td>2</td><td>yes </td><td>yes</td><td>good</td><td>0.1029412</td><td>0.8970588</td><td>good</td></tr>\n",
              "\t<tr><th scope=row>15</th><td><span style=white-space:pre-wrap>&lt;0           </span></td><td>15</td><td><span style=white-space:pre-wrap>'existing paid'                 </span></td><td><span style=white-space:pre-wrap>'new car'          </span></td><td>1403</td><td><span style=white-space:pre-wrap>&lt;100              </span></td><td>1&lt;=X&lt;4</td><td>2</td><td>'female div/dep/mar'</td><td><span style=white-space:pre-wrap>none     </span></td><td>⋯</td><td><span style=white-space:pre-wrap>rent      </span></td><td>1</td><td><span style=white-space:pre-wrap>skilled             </span></td><td>1</td><td>none</td><td>yes</td><td>good</td><td>0.1376147</td><td>0.8623853</td><td>good</td></tr>\n",
              "\t<tr><th scope=row>28</th><td><span style=white-space:pre-wrap>&gt;=200        </span></td><td>12</td><td><span style=white-space:pre-wrap>'all paid'                      </span></td><td><span style=white-space:pre-wrap>radio/tv           </span></td><td> 409</td><td><span style=white-space:pre-wrap>&gt;=1000            </span></td><td>1&lt;=X&lt;4</td><td>3</td><td>'female div/dep/mar'</td><td><span style=white-space:pre-wrap>none     </span></td><td>⋯</td><td><span style=white-space:pre-wrap>rent      </span></td><td>2</td><td><span style=white-space:pre-wrap>skilled             </span></td><td>1</td><td>none</td><td>yes</td><td>good</td><td>0.8620690</td><td>0.1379310</td><td>bad </td></tr>\n",
              "</tbody>\n",
              "</table>\n"
            ]
          },
          "metadata": {
            "tags": []
          }
        }
      ]
    },
    {
      "cell_type": "markdown",
      "metadata": {
        "id": "_ragk6c7JGbg"
      },
      "source": [
        "# Matriz de Confusão"
      ]
    },
    {
      "cell_type": "code",
      "metadata": {
        "id": "qyg6uyLxIHuj"
      },
      "source": [
        "confusao <- table(cred$class, cred$Reult)\n",
        "\n",
        "\n"
      ],
      "execution_count": 41,
      "outputs": []
    },
    {
      "cell_type": "code",
      "metadata": {
        "colab": {
          "base_uri": "https://localhost:8080/",
          "height": 85
        },
        "id": "YQcVg658Mzoh",
        "outputId": "6c742690-0c85-46d9-8b17-019cbf4a0909"
      },
      "source": [
        "confusao"
      ],
      "execution_count": 46,
      "outputs": [
        {
          "output_type": "display_data",
          "data": {
            "text/plain": [
              "      \n",
              "       bad good\n",
              "  bad   42   57\n",
              "  good  34  179"
            ]
          },
          "metadata": {
            "tags": []
          }
        }
      ]
    },
    {
      "cell_type": "code",
      "metadata": {
        "colab": {
          "base_uri": "https://localhost:8080/"
        },
        "id": "2nYcrSs6J9NO",
        "outputId": "0d1068c4-9ffd-4122-9bdc-58863e483295"
      },
      "source": [
        "taxa_acerto <- (confusao[1] + confusao[4]) / sum(confusao)\n"
      ],
      "execution_count": 44,
      "outputs": [
        {
          "output_type": "stream",
          "text": [
            "[1] \"A taxa de acerto do modelo foi de \"\n"
          ],
          "name": "stdout"
        }
      ]
    },
    {
      "cell_type": "code",
      "metadata": {
        "colab": {
          "base_uri": "https://localhost:8080/",
          "height": 34
        },
        "id": "0pRBHLBTKvqm",
        "outputId": "299e54d0-dfd2-411f-cc80-852145bd787f"
      },
      "source": [
        "taxa_acerto"
      ],
      "execution_count": 45,
      "outputs": [
        {
          "output_type": "display_data",
          "data": {
            "text/plain": [
              "[1] 0.7083333"
            ],
            "text/latex": "0.708333333333333",
            "text/markdown": "0.708333333333333",
            "text/html": [
              "0.708333333333333"
            ]
          },
          "metadata": {
            "tags": []
          }
        }
      ]
    },
    {
      "cell_type": "markdown",
      "metadata": {
        "id": "7bT9J8cLNoNm"
      },
      "source": [
        "# Algoritmo de Naive Bayes -> para prever se um clienete é ou nao bom pagador, usado a base de dados de credito historico"
      ]
    },
    {
      "cell_type": "code",
      "metadata": {
        "colab": {
          "base_uri": "https://localhost:8080/"
        },
        "id": "2G5A5OSBMrui",
        "outputId": "86c7415d-6f74-47c4-a87f-ea6e0a93d126"
      },
      "source": [
        "install.packages(\"e1071\")\n",
        "library(e1071)"
      ],
      "execution_count": 47,
      "outputs": [
        {
          "output_type": "stream",
          "text": [
            "Installing package into ‘/usr/local/lib/R/site-library’\n",
            "(as ‘lib’ is unspecified)\n",
            "\n",
            "also installing the dependency ‘proxy’\n",
            "\n",
            "\n"
          ],
          "name": "stderr"
        }
      ]
    },
    {
      "cell_type": "code",
      "metadata": {
        "colab": {
          "base_uri": "https://localhost:8080/",
          "height": 34
        },
        "id": "66fYZvLCOG4D",
        "outputId": "3b2d104a-92a0-4390-ef5b-11e889d6714a"
      },
      "source": [
        "dim(credito)"
      ],
      "execution_count": 48,
      "outputs": [
        {
          "output_type": "display_data",
          "data": {
            "text/plain": [
              "[1] 1000   21"
            ],
            "text/latex": "\\begin{enumerate*}\n\\item 1000\n\\item 21\n\\end{enumerate*}\n",
            "text/markdown": "1. 1000\n2. 21\n\n\n",
            "text/html": [
              "<style>\n",
              ".list-inline {list-style: none; margin:0; padding: 0}\n",
              ".list-inline>li {display: inline-block}\n",
              ".list-inline>li:not(:last-child)::after {content: \"\\00b7\"; padding: 0 .5ex}\n",
              "</style>\n",
              "<ol class=list-inline><li>1000</li><li>21</li></ol>\n"
            ]
          },
          "metadata": {
            "tags": []
          }
        }
      ]
    },
    {
      "cell_type": "code",
      "metadata": {
        "id": "Dj8BUmzAOJKA"
      },
      "source": [
        "# Tranformamos a classe em fator\n",
        "credito$class = as.factor(credito$class)"
      ],
      "execution_count": 49,
      "outputs": []
    },
    {
      "cell_type": "code",
      "metadata": {
        "id": "pRK-JdlTOXFw"
      },
      "source": [
        "# Separamos os dados de treino e de teste\n",
        "# amostra\n",
        "amostra <- sample(2, 1000, replace = T, prob = c(0.7, 0.3))\n",
        "cred_treino = credito[amostra==1, ]\n",
        "cred_teste = credito[amostra==2, ]"
      ],
      "execution_count": 52,
      "outputs": []
    },
    {
      "cell_type": "code",
      "metadata": {
        "colab": {
          "base_uri": "https://localhost:8080/"
        },
        "id": "TZ2CAlPlOqsf",
        "outputId": "db3f3bf4-070c-43e0-e3b6-c30914df5ac8"
      },
      "source": [
        "# Dimensão dos dados de treino e de teste\n",
        "print(dim(cred_treino))\n",
        "print(dim(cred_teste))"
      ],
      "execution_count": 53,
      "outputs": [
        {
          "output_type": "stream",
          "text": [
            "[1] 687  21\n",
            "[1] 313  21\n"
          ],
          "name": "stdout"
        }
      ]
    },
    {
      "cell_type": "code",
      "metadata": {
        "colab": {
          "base_uri": "https://localhost:8080/",
          "height": 1000
        },
        "id": "O0YrVDm7PhC8",
        "outputId": "29abf278-f330-444e-c65a-3995e154a989"
      },
      "source": [
        "# criando o modelo\n",
        "naive_model <- naiveBayes(class ~ . , cred_treino)\n",
        "naive_model"
      ],
      "execution_count": 55,
      "outputs": [
        {
          "output_type": "display_data",
          "data": {
            "text/plain": [
              "\n",
              "Naive Bayes Classifier for Discrete Predictors\n",
              "\n",
              "Call:\n",
              "naiveBayes.default(x = X, y = Y, laplace = laplace)\n",
              "\n",
              "A-priori probabilities:\n",
              "Y\n",
              "     bad     good \n",
              "0.294032 0.705968 \n",
              "\n",
              "Conditional probabilities:\n",
              "      checking_status\n",
              "Y      'no checking'         <0      >=200   0<=X<200\n",
              "  bad     0.15346535 0.42574257 0.05445545 0.36633663\n",
              "  good    0.48453608 0.20824742 0.06804124 0.23917526\n",
              "\n",
              "      duration\n",
              "Y          [,1]     [,2]\n",
              "  bad  24.93069 13.05309\n",
              "  good 18.77526 10.86207\n",
              "\n",
              "      credit_history\n",
              "Y      'all paid' 'critical/other existing credit' 'delayed previously'\n",
              "  bad  0.08415842                       0.17326733           0.09405941\n",
              "  good 0.02886598                       0.33608247           0.08247423\n",
              "      credit_history\n",
              "Y      'existing paid' 'no credits/all paid'\n",
              "  bad       0.55940594            0.08910891\n",
              "  good      0.52577320            0.02680412\n",
              "\n",
              "      purpose\n",
              "Y      'domestic appliance'   'new car'  'used car'    business   education\n",
              "  bad           0.014851485 0.316831683 0.054455446 0.123762376 0.064356436\n",
              "  good          0.010309278 0.206185567 0.123711340 0.082474227 0.039175258\n",
              "      purpose\n",
              "Y      furniture/equipment       other    radio/tv     repairs  retraining\n",
              "  bad          0.202970297 0.019801980 0.178217822 0.019801980 0.004950495\n",
              "  good         0.175257732 0.010309278 0.317525773 0.024742268 0.010309278\n",
              "\n",
              "      credit_amount\n",
              "Y          [,1]     [,2]\n",
              "  bad  4194.455 3660.809\n",
              "  good 2893.377 2333.816\n",
              "\n",
              "      savings_status\n",
              "Y      'no known savings'       <100     >=1000 100<=X<500 500<=X<1000\n",
              "  bad          0.12376238 0.72772277 0.01485149 0.10396040  0.02970297\n",
              "  good         0.21237113 0.54639175 0.05773196 0.11752577  0.06597938\n",
              "\n",
              "      employment\n",
              "Y              <1        >=7     1<=X<4     4<=X<7 unemployed\n",
              "  bad  0.21782178 0.21782178 0.36633663 0.11386139 0.08415842\n",
              "  good 0.15876289 0.27422680 0.34226804 0.17113402 0.05360825\n",
              "\n",
              "      installment_commitment\n",
              "Y          [,1]     [,2]\n",
              "  bad  3.084158 1.091736\n",
              "  good 2.901031 1.132949\n",
              "\n",
              "      personal_status\n",
              "Y      'female div/dep/mar' 'male div/sep' 'male mar/wid' 'male single'\n",
              "  bad            0.35148515     0.07425743     0.09405941    0.48019802\n",
              "  good           0.27010309     0.04948454     0.11134021    0.56907216\n",
              "\n",
              "      other_parties\n",
              "Y      'co applicant'  guarantor       none\n",
              "  bad      0.05940594 0.02970297 0.91089109\n",
              "  good     0.03092784 0.05773196 0.91134021\n",
              "\n",
              "      residence_since\n",
              "Y          [,1]     [,2]\n",
              "  bad  2.891089 1.100891\n",
              "  good 2.818557 1.107854\n",
              "\n",
              "      property_magnitude\n",
              "Y      'life insurance' 'no known property' 'real estate'       car\n",
              "  bad         0.2425743           0.2376238     0.2029703 0.3168317\n",
              "  good        0.2247423           0.1298969     0.3134021 0.3319588\n",
              "\n",
              "      age\n",
              "Y          [,1]     [,2]\n",
              "  bad  34.96535 11.56482\n",
              "  good 36.28866 11.57919\n",
              "\n",
              "      other_payment_plans\n",
              "Y            bank       none     stores\n",
              "  bad  0.19306931 0.74257426 0.06435644\n",
              "  good 0.12164948 0.83711340 0.04123711\n",
              "\n",
              "      housing\n",
              "Y      'for free'        own       rent\n",
              "  bad  0.16336634 0.61386139 0.22277228\n",
              "  good 0.09278351 0.74639175 0.16082474\n",
              "\n",
              "      existing_credits\n",
              "Y          [,1]      [,2]\n",
              "  bad  1.381188 0.5970429\n",
              "  good 1.395876 0.5785272\n",
              "\n",
              "      job\n",
              "Y      'high qualif/self emp/mgmt' 'unemp/unskilled non res'\n",
              "  bad                   0.21287129                0.02475248\n",
              "  good                  0.13814433                0.02268041\n",
              "      job\n",
              "Y      'unskilled resident'    skilled\n",
              "  bad            0.16831683 0.59405941\n",
              "  good           0.20206186 0.63711340\n",
              "\n",
              "      num_dependents\n",
              "Y          [,1]      [,2]\n",
              "  bad  1.143564 0.3515186\n",
              "  good 1.144330 0.3517868\n",
              "\n",
              "      own_telephone\n",
              "Y           none       yes\n",
              "  bad  0.5891089 0.4108911\n",
              "  good 0.6123711 0.3876289\n",
              "\n",
              "      foreign_worker\n",
              "Y              no        yes\n",
              "  bad  0.00990099 0.99009901\n",
              "  good 0.04948454 0.95051546\n"
            ]
          },
          "metadata": {
            "tags": []
          }
        }
      ]
    },
    {
      "cell_type": "code",
      "metadata": {
        "colab": {
          "base_uri": "https://localhost:8080/",
          "height": 221
        },
        "id": "gME6AvbZPvb0",
        "outputId": "b2b44b7c-f916-45f1-b02f-8dc98e3bc110"
      },
      "source": [
        "# previsão\n",
        "previsao <- predict(naive_model, cred_teste)\n",
        "previsao"
      ],
      "execution_count": 57,
      "outputs": [
        {
          "output_type": "display_data",
          "data": {
            "text/plain": [
              "  [1] good bad  good bad  good good good good good good good good bad  good good\n",
              " [16] good good bad  good good good bad  good good good good good good good good\n",
              " [31] good good good bad  good good bad  good good good good good bad  good good\n",
              " [46] good bad  good good good good good bad  good bad  good good good bad  good\n",
              " [61] good good good good bad  good good bad  good bad  good good bad  good good\n",
              " [76] good good good bad  good good good good good good good good good bad  good\n",
              " [91] good bad  good good bad  good good good good bad  good good good bad  good\n",
              "[106] good good bad  bad  good bad  good good good good good good bad  good good\n",
              "[121] good good bad  good good good good good bad  good good good bad  good good\n",
              "[136] good bad  good good bad  good good good good good good good good good good\n",
              "[151] good good bad  good good good bad  good good good good good bad  good good\n",
              "[166] bad  bad  good good bad  good bad  bad  good good good good good good bad \n",
              "[181] good bad  good good good good good bad  bad  good bad  bad  good good good\n",
              "[196] good bad  good bad  bad  good good good bad  good bad  good good bad  bad \n",
              "[211] good good good good bad  good good good bad  good good bad  bad  good good\n",
              "[226] good good good good bad  good good good good bad  good good bad  good good\n",
              "[241] good good bad  good good good bad  bad  good good good good good bad  good\n",
              "[256] good good good good good bad  good good good good good bad  good good bad \n",
              "[271] good good good good good bad  bad  good good good good good good bad  good\n",
              "[286] bad  good good bad  good good good good good bad  good good good good good\n",
              "[301] bad  good good good good bad  good good good bad  good good bad \n",
              "Levels: bad good"
            ],
            "text/latex": "\\begin{enumerate*}\n\\item good\n\\item bad\n\\item good\n\\item bad\n\\item good\n\\item good\n\\item good\n\\item good\n\\item good\n\\item good\n\\item good\n\\item good\n\\item bad\n\\item good\n\\item good\n\\item good\n\\item good\n\\item bad\n\\item good\n\\item good\n\\item good\n\\item bad\n\\item good\n\\item good\n\\item good\n\\item good\n\\item good\n\\item good\n\\item good\n\\item good\n\\item good\n\\item good\n\\item good\n\\item bad\n\\item good\n\\item good\n\\item bad\n\\item good\n\\item good\n\\item good\n\\item good\n\\item good\n\\item bad\n\\item good\n\\item good\n\\item good\n\\item bad\n\\item good\n\\item good\n\\item good\n\\item good\n\\item good\n\\item bad\n\\item good\n\\item bad\n\\item good\n\\item good\n\\item good\n\\item bad\n\\item good\n\\item good\n\\item good\n\\item good\n\\item good\n\\item bad\n\\item good\n\\item good\n\\item bad\n\\item good\n\\item bad\n\\item good\n\\item good\n\\item bad\n\\item good\n\\item good\n\\item good\n\\item good\n\\item good\n\\item bad\n\\item good\n\\item good\n\\item good\n\\item good\n\\item good\n\\item good\n\\item good\n\\item good\n\\item good\n\\item bad\n\\item good\n\\item good\n\\item bad\n\\item good\n\\item good\n\\item bad\n\\item good\n\\item good\n\\item good\n\\item good\n\\item bad\n\\item good\n\\item good\n\\item good\n\\item bad\n\\item good\n\\item good\n\\item good\n\\item bad\n\\item bad\n\\item good\n\\item bad\n\\item good\n\\item good\n\\item good\n\\item good\n\\item good\n\\item good\n\\item bad\n\\item good\n\\item good\n\\item good\n\\item good\n\\item bad\n\\item good\n\\item good\n\\item good\n\\item good\n\\item good\n\\item bad\n\\item good\n\\item good\n\\item good\n\\item bad\n\\item good\n\\item good\n\\item good\n\\item bad\n\\item good\n\\item good\n\\item bad\n\\item good\n\\item good\n\\item good\n\\item good\n\\item good\n\\item good\n\\item good\n\\item good\n\\item good\n\\item good\n\\item good\n\\item good\n\\item bad\n\\item good\n\\item good\n\\item good\n\\item bad\n\\item good\n\\item good\n\\item good\n\\item good\n\\item good\n\\item bad\n\\item good\n\\item good\n\\item bad\n\\item bad\n\\item good\n\\item good\n\\item bad\n\\item good\n\\item bad\n\\item bad\n\\item good\n\\item good\n\\item good\n\\item good\n\\item good\n\\item good\n\\item bad\n\\item good\n\\item bad\n\\item good\n\\item good\n\\item good\n\\item good\n\\item good\n\\item bad\n\\item bad\n\\item good\n\\item bad\n\\item bad\n\\item good\n\\item good\n\\item good\n\\item good\n\\item bad\n\\item good\n\\item bad\n\\item bad\n\\item good\n\\item good\n\\item good\n\\item bad\n\\item good\n\\item bad\n\\item good\n\\item good\n\\item bad\n\\item bad\n\\item good\n\\item good\n\\item good\n\\item good\n\\item bad\n\\item good\n\\item good\n\\item good\n\\item bad\n\\item good\n\\item good\n\\item bad\n\\item bad\n\\item good\n\\item good\n\\item good\n\\item good\n\\item good\n\\item good\n\\item bad\n\\item good\n\\item good\n\\item good\n\\item good\n\\item bad\n\\item good\n\\item good\n\\item bad\n\\item good\n\\item good\n\\item good\n\\item good\n\\item bad\n\\item good\n\\item good\n\\item good\n\\item bad\n\\item bad\n\\item good\n\\item good\n\\item good\n\\item good\n\\item good\n\\item bad\n\\item good\n\\item good\n\\item good\n\\item good\n\\item good\n\\item good\n\\item bad\n\\item good\n\\item good\n\\item good\n\\item good\n\\item good\n\\item bad\n\\item good\n\\item good\n\\item bad\n\\item good\n\\item good\n\\item good\n\\item good\n\\item good\n\\item bad\n\\item bad\n\\item good\n\\item good\n\\item good\n\\item good\n\\item good\n\\item good\n\\item bad\n\\item good\n\\item bad\n\\item good\n\\item good\n\\item bad\n\\item good\n\\item good\n\\item good\n\\item good\n\\item good\n\\item bad\n\\item good\n\\item good\n\\item good\n\\item good\n\\item good\n\\item bad\n\\item good\n\\item good\n\\item good\n\\item good\n\\item bad\n\\item good\n\\item good\n\\item good\n\\item bad\n\\item good\n\\item good\n\\item bad\n\\end{enumerate*}\n\n\\emph{Levels}: \\begin{enumerate*}\n\\item 'bad'\n\\item 'good'\n\\end{enumerate*}\n",
            "text/markdown": "1. good\n2. bad\n3. good\n4. bad\n5. good\n6. good\n7. good\n8. good\n9. good\n10. good\n11. good\n12. good\n13. bad\n14. good\n15. good\n16. good\n17. good\n18. bad\n19. good\n20. good\n21. good\n22. bad\n23. good\n24. good\n25. good\n26. good\n27. good\n28. good\n29. good\n30. good\n31. good\n32. good\n33. good\n34. bad\n35. good\n36. good\n37. bad\n38. good\n39. good\n40. good\n41. good\n42. good\n43. bad\n44. good\n45. good\n46. good\n47. bad\n48. good\n49. good\n50. good\n51. good\n52. good\n53. bad\n54. good\n55. bad\n56. good\n57. good\n58. good\n59. bad\n60. good\n61. good\n62. good\n63. good\n64. good\n65. bad\n66. good\n67. good\n68. bad\n69. good\n70. bad\n71. good\n72. good\n73. bad\n74. good\n75. good\n76. good\n77. good\n78. good\n79. bad\n80. good\n81. good\n82. good\n83. good\n84. good\n85. good\n86. good\n87. good\n88. good\n89. bad\n90. good\n91. good\n92. bad\n93. good\n94. good\n95. bad\n96. good\n97. good\n98. good\n99. good\n100. bad\n101. good\n102. good\n103. good\n104. bad\n105. good\n106. good\n107. good\n108. bad\n109. bad\n110. good\n111. bad\n112. good\n113. good\n114. good\n115. good\n116. good\n117. good\n118. bad\n119. good\n120. good\n121. good\n122. good\n123. bad\n124. good\n125. good\n126. good\n127. good\n128. good\n129. bad\n130. good\n131. good\n132. good\n133. bad\n134. good\n135. good\n136. good\n137. bad\n138. good\n139. good\n140. bad\n141. good\n142. good\n143. good\n144. good\n145. good\n146. good\n147. good\n148. good\n149. good\n150. good\n151. good\n152. good\n153. bad\n154. good\n155. good\n156. good\n157. bad\n158. good\n159. good\n160. good\n161. good\n162. good\n163. bad\n164. good\n165. good\n166. bad\n167. bad\n168. good\n169. good\n170. bad\n171. good\n172. bad\n173. bad\n174. good\n175. good\n176. good\n177. good\n178. good\n179. good\n180. bad\n181. good\n182. bad\n183. good\n184. good\n185. good\n186. good\n187. good\n188. bad\n189. bad\n190. good\n191. bad\n192. bad\n193. good\n194. good\n195. good\n196. good\n197. bad\n198. good\n199. bad\n200. bad\n201. good\n202. good\n203. good\n204. bad\n205. good\n206. bad\n207. good\n208. good\n209. bad\n210. bad\n211. good\n212. good\n213. good\n214. good\n215. bad\n216. good\n217. good\n218. good\n219. bad\n220. good\n221. good\n222. bad\n223. bad\n224. good\n225. good\n226. good\n227. good\n228. good\n229. good\n230. bad\n231. good\n232. good\n233. good\n234. good\n235. bad\n236. good\n237. good\n238. bad\n239. good\n240. good\n241. good\n242. good\n243. bad\n244. good\n245. good\n246. good\n247. bad\n248. bad\n249. good\n250. good\n251. good\n252. good\n253. good\n254. bad\n255. good\n256. good\n257. good\n258. good\n259. good\n260. good\n261. bad\n262. good\n263. good\n264. good\n265. good\n266. good\n267. bad\n268. good\n269. good\n270. bad\n271. good\n272. good\n273. good\n274. good\n275. good\n276. bad\n277. bad\n278. good\n279. good\n280. good\n281. good\n282. good\n283. good\n284. bad\n285. good\n286. bad\n287. good\n288. good\n289. bad\n290. good\n291. good\n292. good\n293. good\n294. good\n295. bad\n296. good\n297. good\n298. good\n299. good\n300. good\n301. bad\n302. good\n303. good\n304. good\n305. good\n306. bad\n307. good\n308. good\n309. good\n310. bad\n311. good\n312. good\n313. bad\n\n\n\n**Levels**: 1. 'bad'\n2. 'good'\n\n\n",
            "text/html": [
              "<style>\n",
              ".list-inline {list-style: none; margin:0; padding: 0}\n",
              ".list-inline>li {display: inline-block}\n",
              ".list-inline>li:not(:last-child)::after {content: \"\\00b7\"; padding: 0 .5ex}\n",
              "</style>\n",
              "<ol class=list-inline><li>good</li><li>bad</li><li>good</li><li>bad</li><li>good</li><li>good</li><li>good</li><li>good</li><li>good</li><li>good</li><li>good</li><li>good</li><li>bad</li><li>good</li><li>good</li><li>good</li><li>good</li><li>bad</li><li>good</li><li>good</li><li>good</li><li>bad</li><li>good</li><li>good</li><li>good</li><li>good</li><li>good</li><li>good</li><li>good</li><li>good</li><li>good</li><li>good</li><li>good</li><li>bad</li><li>good</li><li>good</li><li>bad</li><li>good</li><li>good</li><li>good</li><li>good</li><li>good</li><li>bad</li><li>good</li><li>good</li><li>good</li><li>bad</li><li>good</li><li>good</li><li>good</li><li>good</li><li>good</li><li>bad</li><li>good</li><li>bad</li><li>good</li><li>good</li><li>good</li><li>bad</li><li>good</li><li>good</li><li>good</li><li>good</li><li>good</li><li>bad</li><li>good</li><li>good</li><li>bad</li><li>good</li><li>bad</li><li>good</li><li>good</li><li>bad</li><li>good</li><li>good</li><li>good</li><li>good</li><li>good</li><li>bad</li><li>good</li><li>good</li><li>good</li><li>good</li><li>good</li><li>good</li><li>good</li><li>good</li><li>good</li><li>bad</li><li>good</li><li>good</li><li>bad</li><li>good</li><li>good</li><li>bad</li><li>good</li><li>good</li><li>good</li><li>good</li><li>bad</li><li>good</li><li>good</li><li>good</li><li>bad</li><li>good</li><li>good</li><li>good</li><li>bad</li><li>bad</li><li>good</li><li>bad</li><li>good</li><li>good</li><li>good</li><li>good</li><li>good</li><li>good</li><li>bad</li><li>good</li><li>good</li><li>good</li><li>good</li><li>bad</li><li>good</li><li>good</li><li>good</li><li>good</li><li>good</li><li>bad</li><li>good</li><li>good</li><li>good</li><li>bad</li><li>good</li><li>good</li><li>good</li><li>bad</li><li>good</li><li>good</li><li>bad</li><li>good</li><li>good</li><li>good</li><li>good</li><li>good</li><li>good</li><li>good</li><li>good</li><li>good</li><li>good</li><li>good</li><li>good</li><li>bad</li><li>good</li><li>good</li><li>good</li><li>bad</li><li>good</li><li>good</li><li>good</li><li>good</li><li>good</li><li>bad</li><li>good</li><li>good</li><li>bad</li><li>bad</li><li>good</li><li>good</li><li>bad</li><li>good</li><li>bad</li><li>bad</li><li>good</li><li>good</li><li>good</li><li>good</li><li>good</li><li>good</li><li>bad</li><li>good</li><li>bad</li><li>good</li><li>good</li><li>good</li><li>good</li><li>good</li><li>bad</li><li>bad</li><li>good</li><li>bad</li><li>bad</li><li>good</li><li>good</li><li>good</li><li>good</li><li>bad</li><li>good</li><li>bad</li><li>bad</li><li>good</li><li>good</li><li>good</li><li>bad</li><li>good</li><li>bad</li><li>good</li><li>good</li><li>bad</li><li>bad</li><li>good</li><li>good</li><li>good</li><li>good</li><li>bad</li><li>good</li><li>good</li><li>good</li><li>bad</li><li>good</li><li>good</li><li>bad</li><li>bad</li><li>good</li><li>good</li><li>good</li><li>good</li><li>good</li><li>good</li><li>bad</li><li>good</li><li>good</li><li>good</li><li>good</li><li>bad</li><li>good</li><li>good</li><li>bad</li><li>good</li><li>good</li><li>good</li><li>good</li><li>bad</li><li>good</li><li>good</li><li>good</li><li>bad</li><li>bad</li><li>good</li><li>good</li><li>good</li><li>good</li><li>good</li><li>bad</li><li>good</li><li>good</li><li>good</li><li>good</li><li>good</li><li>good</li><li>bad</li><li>good</li><li>good</li><li>good</li><li>good</li><li>good</li><li>bad</li><li>good</li><li>good</li><li>bad</li><li>good</li><li>good</li><li>good</li><li>good</li><li>good</li><li>bad</li><li>bad</li><li>good</li><li>good</li><li>good</li><li>good</li><li>good</li><li>good</li><li>bad</li><li>good</li><li>bad</li><li>good</li><li>good</li><li>bad</li><li>good</li><li>good</li><li>good</li><li>good</li><li>good</li><li>bad</li><li>good</li><li>good</li><li>good</li><li>good</li><li>good</li><li>bad</li><li>good</li><li>good</li><li>good</li><li>good</li><li>bad</li><li>good</li><li>good</li><li>good</li><li>bad</li><li>good</li><li>good</li><li>bad</li></ol>\n",
              "\n",
              "<details>\n",
              "\t<summary style=display:list-item;cursor:pointer>\n",
              "\t\t<strong>Levels</strong>:\n",
              "\t</summary>\n",
              "\t<style>\n",
              "\t.list-inline {list-style: none; margin:0; padding: 0}\n",
              "\t.list-inline>li {display: inline-block}\n",
              "\t.list-inline>li:not(:last-child)::after {content: \"\\00b7\"; padding: 0 .5ex}\n",
              "\t</style>\n",
              "\t<ol class=list-inline><li>'bad'</li><li>'good'</li></ol>\n",
              "</details>"
            ]
          },
          "metadata": {
            "tags": []
          }
        }
      ]
    },
    {
      "cell_type": "markdown",
      "metadata": {
        "id": "2qwElY75Qr6Z"
      },
      "source": [
        "Matriz de Confusão"
      ]
    },
    {
      "cell_type": "code",
      "metadata": {
        "id": "cNlRcBm1P7a4"
      },
      "source": [
        "confusion <- table(cred_teste$class, previsao)\n",
        "\n"
      ],
      "execution_count": 60,
      "outputs": []
    },
    {
      "cell_type": "code",
      "metadata": {
        "colab": {
          "base_uri": "https://localhost:8080/",
          "height": 85
        },
        "id": "PYgEfb-jRWuE",
        "outputId": "315d87c0-4819-465b-f6b1-30cb886a4545"
      },
      "source": [
        "confusion"
      ],
      "execution_count": 61,
      "outputs": [
        {
          "output_type": "display_data",
          "data": {
            "text/plain": [
              "      previsao\n",
              "       bad good\n",
              "  bad   46   52\n",
              "  good  30  185"
            ]
          },
          "metadata": {
            "tags": []
          }
        }
      ]
    },
    {
      "cell_type": "code",
      "metadata": {
        "colab": {
          "base_uri": "https://localhost:8080/",
          "height": 34
        },
        "id": "e-lH_zzURRF2",
        "outputId": "b8253bf6-d8d8-4e35-9f66-43dfd3fa7154"
      },
      "source": [
        "# taxa de acerto\n",
        "taxaAcerto = (confusion[1] + confusion[4]) / sum(confusion)\n",
        "taxaAcerto"
      ],
      "execution_count": 62,
      "outputs": [
        {
          "output_type": "display_data",
          "data": {
            "text/plain": [
              "[1] 0.7380192"
            ],
            "text/latex": "0.738019169329074",
            "text/markdown": "0.738019169329074",
            "text/html": [
              "0.738019169329074"
            ]
          },
          "metadata": {
            "tags": []
          }
        }
      ]
    },
    {
      "cell_type": "markdown",
      "metadata": {
        "id": "QG4tp1j5ekfM"
      },
      "source": [
        "#<font color=\"blue\">Seleção de Atributos</font>"
      ]
    },
    {
      "cell_type": "code",
      "metadata": {
        "colab": {
          "base_uri": "https://localhost:8080/"
        },
        "id": "XYqldjZSRbDL",
        "outputId": "29b515da-c32a-4666-c2bd-10723589e727"
      },
      "source": [
        "install.packages(\"randomForest\")\n",
        "library(randomForest)\n",
        "library(e1071)"
      ],
      "execution_count": 63,
      "outputs": [
        {
          "output_type": "stream",
          "text": [
            "Installing package into ‘/usr/local/lib/R/site-library’\n",
            "(as ‘lib’ is unspecified)\n",
            "\n",
            "randomForest 4.6-14\n",
            "\n",
            "Type rfNews() to see new features/changes/bug fixes.\n",
            "\n"
          ],
          "name": "stderr"
        }
      ]
    },
    {
      "cell_type": "code",
      "metadata": {
        "id": "We5VDRP5fDyw"
      },
      "source": [
        "# carrega a base de dados\n",
        "credito = read.csv(\"dados/Credit.csv\")\n",
        "credito$class = as.factor(credito$class)\n",
        "# criando uma amostra\n",
        "set.seed(234)\n",
        "amostra = sample(2, 1000, replace = T, prob = c(0.7, 0.3))\n",
        "\n",
        "# criando dados de treino e de teste -> holdout\n",
        "credito_treino <- credito[amostra==1, ]\n",
        "credito_teste <- credito[amostra==2, ]\n"
      ],
      "execution_count": 66,
      "outputs": []
    },
    {
      "cell_type": "code",
      "metadata": {
        "id": "b8HOHqiafXl3"
      },
      "source": [
        "# Criando um modelo com todos os atributos e avaliando a acuracia\n",
        "modelo_svc1 <- svm(class ~ ., credito_treino)"
      ],
      "execution_count": 67,
      "outputs": []
    },
    {
      "cell_type": "code",
      "metadata": {
        "id": "VAIklmUWf1Lm"
      },
      "source": [
        "# previsao\n",
        "previsao_svm1 <- predict(modelo_svc1, credito_teste)"
      ],
      "execution_count": 68,
      "outputs": []
    },
    {
      "cell_type": "code",
      "metadata": {
        "colab": {
          "base_uri": "https://localhost:8080/",
          "height": 34
        },
        "id": "77tlRDlbgjR5",
        "outputId": "bf880334-9ca7-41fd-9d72-abfcf73c912f"
      },
      "source": [
        "# Matriz de Confusão\n",
        "svm_confusao <- table(credito_teste$class, previsao_svm1)\n",
        "\n",
        "# taxa de acerto do modelo\n",
        "tx_acerto = (svm_confusao[1] + svm_confusao[4]) / sum(svm_confusao)\n",
        "tx_acerto "
      ],
      "execution_count": 70,
      "outputs": [
        {
          "output_type": "display_data",
          "data": {
            "text/plain": [
              "[1] 0.7557252"
            ],
            "text/latex": "0.755725190839695",
            "text/markdown": "0.755725190839695",
            "text/html": [
              "0.755725190839695"
            ]
          },
          "metadata": {
            "tags": []
          }
        }
      ]
    },
    {
      "cell_type": "markdown",
      "metadata": {
        "id": "z2g7H7gMhBp7"
      },
      "source": [
        "#Aplicando um método de seleção de atribus"
      ]
    },
    {
      "cell_type": "code",
      "metadata": {
        "colab": {
          "base_uri": "https://localhost:8080/",
          "height": 437
        },
        "id": "2wHBiPvWg-Q9",
        "outputId": "00666e80-5816-4763-c4dc-64670fbdecc6"
      },
      "source": [
        "importancia <- randomForest(class ~ ., data = credito_treino)\n",
        "col = importance(importancia)\n",
        "varImpPlot(importancia)"
      ],
      "execution_count": 71,
      "outputs": [
        {
          "output_type": "display_data",
          "data": {
            "image/png": "[encoded data removed]",
            "text/plain": [
              "Plot with title “importancia”"
            ]
          },
          "metadata": {
            "tags": [],
            "image/png": {
              "width": 420,
              "height": 420
            }
          }
        }
      ]
    },
    {
      "cell_type": "markdown",
      "metadata": {
        "id": "I72P7_GeiM_i"
      },
      "source": [
        "Criando um segundo modelo com as variaveis independentes mais importante."
      ]
    },
    {
      "cell_type": "code",
      "metadata": {
        "id": "zTaIgRV7hloT"
      },
      "source": [
        "# credit_amount + age + duration + checking_status\n",
        "modelo_svc2 <- svm(class ~ credit_amount + age + duration + checking_status, credito_treino)"
      ],
      "execution_count": 73,
      "outputs": []
    },
    {
      "cell_type": "code",
      "metadata": {
        "colab": {
          "base_uri": "https://localhost:8080/",
          "height": 34
        },
        "id": "_UcOjRN7ixXg",
        "outputId": "5290e29f-69ff-479f-b5b0-bfdef2d6836e"
      },
      "source": [
        "# previsao\n",
        "previsao_svm2 <- predict(modelo_svc2, credito_teste)\n",
        "\n",
        "# matriz de confusao\n",
        "matriz_conf <- table(credito_teste$class, previsao_svm2)\n",
        "\n",
        "# taxa de acerto\n",
        "taxa_acerto <- (matriz_conf[1] + matriz_conf[4]) / sum(matriz_conf)\n",
        "taxa_acerto\n"
      ],
      "execution_count": 75,
      "outputs": [
        {
          "output_type": "display_data",
          "data": {
            "text/plain": [
              "[1] 0.7748092"
            ],
            "text/latex": "0.774809160305344",
            "text/markdown": "0.774809160305344",
            "text/html": [
              "0.774809160305344"
            ]
          },
          "metadata": {
            "tags": []
          }
        }
      ]
    },
    {
      "cell_type": "code",
      "metadata": {
        "id": "MJteRPBvjqjb"
      },
      "source": [
        ""
      ],
      "execution_count": null,
      "outputs": []
    }
  ]
}